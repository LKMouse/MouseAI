{
 "cells": [
  {
   "cell_type": "code",
   "execution_count": 2,
   "metadata": {},
   "outputs": [],
   "source": [
    "# LSTM for international airline passengers problem with memory\n",
    "import numpy\n",
    "import matplotlib.pyplot as plt\n",
    "from pandas import read_csv\n",
    "import math\n",
    "from keras.models import Sequential\n",
    "from keras.layers import Dense\n",
    "from keras.layers import LSTM\n",
    "from sklearn.preprocessing import MinMaxScaler\n",
    "from sklearn.metrics import mean_squared_error\n",
    "import pandas as pd\n",
    "import numpy as np"
   ]
  },
  {
   "cell_type": "code",
   "execution_count": 3,
   "metadata": {},
   "outputs": [],
   "source": [
    "# convert an array of values into a dataset matrix\n",
    "def create_dataset(dataset, look_back=1):\n",
    "    dataX, dataY = [],[] \n",
    "    for i in range(len(dataset)-look_back-1):\n",
    "        a = dataset[i:(i+look_back):]\n",
    "        dataX.append(a)\n",
    "        dataY.append(dataset[i:(i + look_back):])\n",
    "    \n",
    "    dataX=np.squeeze(dataX,axis=1) #차원 축소\n",
    "    dataY=np.squeeze(dataY,axis=1) #차원 축소\n",
    "    return np.array(dataX), np.array(dataY)"
   ]
  },
  {
   "cell_type": "code",
   "execution_count": 4,
   "metadata": {},
   "outputs": [
    {
     "name": "stdout",
     "output_type": "stream",
     "text": [
      "(1035, 99, 3)\n"
     ]
    }
   ],
   "source": [
    "np.random.seed(7) #결과를 재현할 수 있도록 난수 시드 수정\n",
    "data1=pd.read_excel('x_data.xls') #x좌표 엑셀 데이터 불러옴 \n",
    "data2=pd.read_excel('y_data.xls') #x좌표 엑셀 데이터 불러옴 \n",
    "data3=pd.read_excel('speed.xls') #x좌표 엑셀 데이터 불러옴 \n",
    "\n",
    "pddata1=pd.DataFrame(data1) \n",
    "pddata1.head()\n",
    "pddata2=pd.DataFrame(data2) \n",
    "pddata2.head()\n",
    "pddata3=pd.DataFrame(data3) \n",
    "pddata3.head()\n",
    "\n",
    "hap=[] #진짜 합\n",
    "for j in range(len(pddata1)):\n",
    "    x_data=np.array(pddata1.loc[j])\n",
    "    y_data=np.array(pddata2.loc[j])\n",
    "    s_data=np.array(pddata3.loc[j])\n",
    "\n",
    "    hap1=[] #[x,y,속력] 데이터를 저장하고 있는 리스트\n",
    "\n",
    "    for i in range(len(s_data)): \n",
    "        sum=[] #리스트 하나당 임시로 x,y,속력을 저장할 리스트 (for문 돌릴때마다 초기화)\n",
    "        sum.append(x_data[i]) #x넣음\n",
    "        sum.append(y_data[i]) #y넣음\n",
    "        sum.append(s_data[i]) #속력넣음\n",
    "        hap1.append(sum) #[x,y,속력] 하나의 리스트를 hap리스트에 넣음  \n",
    "\n",
    "    j = j + 1\n",
    "    \n",
    "    hap.append(hap1)\n",
    "\n",
    "n1 = np.array(hap)\n",
    "print(n1.shape) #257,99,3 257개의 샘플과 99개 시계열, 3개 피쳐(x,y,속력)"
   ]
  },
  {
   "cell_type": "code",
   "execution_count": 5,
   "metadata": {},
   "outputs": [],
   "source": [
    "num_sample = n1.shape[0] # 257개 샘플 데이터\n",
    "num_sequence = n1.shape[1] # 99개 시계열 데이터\n",
    "num_feature = n1.shape[2] #3개 피쳐\n",
    "\n",
    "dataset = n1\n",
    "\n",
    "from sklearn.preprocessing import MinMaxScaler\n",
    "scaler = MinMaxScaler() #클래스의 인스턴스 생성\n",
    "\n",
    "\n",
    "#시계열 선회하면서 피팅함\n",
    "#for ss in range(num_sequence):\n",
    "#    scaler.partial_fit(n1[:,ss,:])\n",
    "    \n",
    "#Numpy 활용하여 3차원 데이터 스케일링(변환) 0~1 스케일링\n",
    "#results=[]\n",
    "#for ss in range(num_sequence):\n",
    "#    results.append(scaler.transform(n1[:,ss,:]).reshape(num_sample,1,num_feature))\n",
    "#n1_scaled = np.concatenate(results, axis=1)\n",
    "\n",
    "#dataset=  n1_scaled"
   ]
  },
  {
   "cell_type": "code",
   "execution_count": 6,
   "metadata": {},
   "outputs": [],
   "source": [
    "train_size = int(len(dataset) * 0.7) #학습 데이터 67%\n",
    "test_size = len(dataset) - train_size #테스트 데이터 33%\n",
    "train, test = dataset[0:train_size,:], dataset[train_size:len(dataset),:]\n",
    "\n",
    "# look_back = 1 #이전 시간 단계 입력변수\n",
    "# #X는 지금 t 값이고, Y는 그 다음의 t+1 값임 (즉, X=t, Y=t+1)\n",
    "# trainX, trainY = create_dataset(train, look_back)\n",
    "# testX, testY = create_dataset(test, look_back)\n",
    "# LSTM 모델은 입력데이터 X에 [samples, time steps, features]형식으로 넣어야함\n",
    "# 현재 데이터는 [samples, features]이므로, numpy.reshape()를 사용하여\n",
    "#준비된 train과 test 입력 데이터를 3차원으로 바꿈\n",
    "# trainX = np.reshape(trainX, (trainX.shape[0], 1, trainX.shape[1]))\n",
    "# testX = np.reshape(testX, (testX.shape[0], 1, testX.shape[1]))\n",
    "\n",
    "\n",
    "# # dataframe=pd.DataFrame(hap)\n",
    "# dataframe=pd.DataFrame(data1) #DataFrame은 2차원 테이블 데이터 구조 자료형\n",
    "\n",
    "# dataset = dataframe.values #데이터 프레임에서 numpy배열 추출\n",
    "\n",
    "# dataset = dataset.astype('float32') #정수값을 부동 소수점 값으로 변환\n",
    "# # LSTM 은 S자형(기본값) 또는 tanh활성화 기능을 사용할 떄 입력 데이터의 스케일에 민감\n",
    "# scaler = MinMaxScaler(feature_range=(0, 1)) #정규화함 (0에서 1까지의 범위로 데이터 크기 조정)\n",
    "# dataset = scaler.fit_transform(dataset.reshape(-1,1))\n",
    "#reshape함수를 사용하여 1차원 데이터를 2차원으로 변경\n",
    "\n",
    "# dataset=  n1_scaled\n",
    "\n",
    "# train_size = int(len(dataset) * 0.77) #학습 데이터 7%\n",
    "# test_size = len(dataset) - train_size #테스트 데이터 33%\n",
    "# train, test = dataset[0:train_size,:], dataset[train_size:len(dataset),:]\n",
    "\n",
    "#두개의 인수, 데이터 세트로 변환하려는 Numpt 배열인 dataset과 다음 시간을 예측하기\n",
    "#위해 입력 변수로 사용할 이전 시간 단계 수인 look_back을 사용. 기본값을 1\n",
    "\n",
    "# look_back = 1 #이전 시간 단계 입력변수\n",
    "# #X는 지금 t 값이고, Y는 그 다음의 t+1 값임 (즉, X=t, Y=t+1)\n",
    "# trainX, trainY = create_dataset(train, look_back)\n",
    "# testX, testY = create_dataset(test, look_back)\n",
    "# # LSTM 모델은 입력데이터 X에 [samples, time steps, features]형식으로 넣어야함\n",
    "# # 현재 데이터는 [samples, features]이므로, numpy.reshape()를 사용하여\n",
    "# #준비된 train과 test 입력 데이터를 3차원으로 바꿈\n",
    "# trainX = np.reshape(trainX, (trainX.shape[0], 1, trainX.shape[1]))\n",
    "# testX = np.reshape(testX, (testX.shape[0], 1, testX.shape[1]))"
   ]
  },
  {
   "cell_type": "code",
   "execution_count": 7,
   "metadata": {},
   "outputs": [
    {
     "data": {
      "text/plain": [
       "1035"
      ]
     },
     "execution_count": 7,
     "metadata": {},
     "output_type": "execute_result"
    }
   ],
   "source": [
    "np.shape(train)\n",
    "np.shape(test)\n",
    "\n",
    "len(dataset)"
   ]
  },
  {
   "cell_type": "code",
   "execution_count": 8,
   "metadata": {},
   "outputs": [],
   "source": [
    "#두개의 인수, 데이터 세트로 변환하려는 Numpy 배열인 dataset과 다음 시간을 예측하기\n",
    "#위해 입력 변수로 사용할 이전 시간 단계 수인 look_back을 사용. 기본값을 1\n",
    "#reshpae()함수를 사용하여 배열의 차원을 변경할 수 있음\n",
    "\n",
    "look_back = 1 #이전 시간 단계 입력변수\n",
    "#X는 지금 t 값이고, Y는 그 다음의 t+1 값임 (즉, X=t, Y=t+1)\n",
    "trainX, trainY = create_dataset(train, look_back)\n",
    "testX, testY = create_dataset(test, look_back)\n",
    "# LSTM 모델은 입력데이터 X에 [samples, time steps, features]형식으로 넣어야함\n",
    "# 현재 데이터는 [samples, features]이므로, numpy.reshape()를 사용하여\n",
    "#준비된 train과 test 입력 데이터를 3차원으로 바꿈\n",
    "# trainX = np.reshape(trainX.shape[0], trainX.shape[1], trainX.shape[2])\n",
    "# testX = np.reshape(testX.shape[0], testX.shape[1], testX.shape[2])"
   ]
  },
  {
   "cell_type": "code",
   "execution_count": 10,
   "metadata": {
    "scrolled": true
   },
   "outputs": [
    {
     "name": "stdout",
     "output_type": "stream",
     "text": [
      "Train on 577 samples, validate on 145 samples\n",
      "Epoch 1/500\n",
      "577/577 [==============================] - 3s 5ms/step - loss: 558.3404 - accuracy: 0.7978 - val_loss: 471.7969 - val_accuracy: 0.9113\n",
      "Epoch 2/500\n",
      "577/577 [==============================] - 2s 3ms/step - loss: 486.2100 - accuracy: 0.9466 - val_loss: 456.5304 - val_accuracy: 0.9346\n",
      "Epoch 3/500\n",
      "577/577 [==============================] - 2s 3ms/step - loss: 478.3156 - accuracy: 0.9627 - val_loss: 453.4215 - val_accuracy: 0.9665\n",
      "Epoch 4/500\n",
      "577/577 [==============================] - 2s 3ms/step - loss: 476.4918 - accuracy: 0.9624 - val_loss: 452.3274 - val_accuracy: 0.9710\n",
      "Epoch 5/500\n",
      "577/577 [==============================] - 2s 3ms/step - loss: 475.7372 - accuracy: 0.9824 - val_loss: 451.8599 - val_accuracy: 0.9819\n",
      "Epoch 6/500\n",
      "577/577 [==============================] - 2s 4ms/step - loss: 475.4693 - accuracy: 0.9836 - val_loss: 451.6374 - val_accuracy: 0.9842\n",
      "Epoch 7/500\n",
      "577/577 [==============================] - 2s 3ms/step - loss: 475.2230 - accuracy: 0.9876 - val_loss: 451.4574 - val_accuracy: 0.9863\n",
      "Epoch 8/500\n",
      "577/577 [==============================] - 2s 3ms/step - loss: 475.0720 - accuracy: 0.9874 - val_loss: 451.3605 - val_accuracy: 0.9837\n",
      "Epoch 9/500\n",
      "577/577 [==============================] - 2s 3ms/step - loss: 474.9776 - accuracy: 0.9824 - val_loss: 451.2742 - val_accuracy: 0.9844\n",
      "Epoch 10/500\n",
      "577/577 [==============================] - 2s 3ms/step - loss: 474.8943 - accuracy: 0.9817 - val_loss: 451.2125 - val_accuracy: 0.9831\n",
      "Epoch 11/500\n",
      "577/577 [==============================] - 2s 3ms/step - loss: 474.8234 - accuracy: 0.9803 - val_loss: 451.1349 - val_accuracy: 0.9812\n",
      "Epoch 12/500\n",
      "577/577 [==============================] - 2s 3ms/step - loss: 474.7229 - accuracy: 0.9798 - val_loss: 450.9686 - val_accuracy: 0.9820\n",
      "Epoch 13/500\n",
      "577/577 [==============================] - 2s 3ms/step - loss: 474.5282 - accuracy: 0.9787 - val_loss: 450.7772 - val_accuracy: 0.9845\n",
      "Epoch 14/500\n",
      "577/577 [==============================] - 2s 3ms/step - loss: 474.3907 - accuracy: 0.9796 - val_loss: 450.6547 - val_accuracy: 0.9706\n",
      "Epoch 15/500\n",
      "577/577 [==============================] - 2s 3ms/step - loss: 474.2265 - accuracy: 0.9776 - val_loss: 450.4743 - val_accuracy: 0.9786\n",
      "Epoch 16/500\n",
      "577/577 [==============================] - 2s 3ms/step - loss: 474.0685 - accuracy: 0.9822 - val_loss: 450.3281 - val_accuracy: 0.9769\n",
      "Epoch 17/500\n",
      "577/577 [==============================] - 2s 3ms/step - loss: 473.9524 - accuracy: 0.9797 - val_loss: 450.2638 - val_accuracy: 0.9848\n",
      "Epoch 18/500\n",
      "577/577 [==============================] - 2s 3ms/step - loss: 473.8271 - accuracy: 0.9811 - val_loss: 450.1029 - val_accuracy: 0.9811\n",
      "Epoch 19/500\n",
      "577/577 [==============================] - 2s 3ms/step - loss: 473.7217 - accuracy: 0.9811 - val_loss: 450.0120 - val_accuracy: 0.9845\n",
      "Epoch 20/500\n",
      "577/577 [==============================] - 2s 3ms/step - loss: 473.6360 - accuracy: 0.9824 - val_loss: 449.8964 - val_accuracy: 0.9852\n",
      "Epoch 21/500\n",
      "577/577 [==============================] - 2s 3ms/step - loss: 473.5256 - accuracy: 0.9783 - val_loss: 449.8013 - val_accuracy: 0.9822\n",
      "Epoch 22/500\n",
      "577/577 [==============================] - 2s 3ms/step - loss: 473.4716 - accuracy: 0.9774 - val_loss: 449.7415 - val_accuracy: 0.9829\n",
      "Epoch 23/500\n",
      "577/577 [==============================] - 2s 3ms/step - loss: 473.3894 - accuracy: 0.9832 - val_loss: 449.6809 - val_accuracy: 0.9856\n",
      "Epoch 24/500\n",
      "577/577 [==============================] - 2s 3ms/step - loss: 473.3366 - accuracy: 0.9844 - val_loss: 449.6407 - val_accuracy: 0.9879\n",
      "Epoch 25/500\n",
      "577/577 [==============================] - 2s 3ms/step - loss: 473.3017 - accuracy: 0.9841 - val_loss: 449.5887 - val_accuracy: 0.9813\n",
      "Epoch 26/500\n",
      "577/577 [==============================] - 2s 3ms/step - loss: 473.2546 - accuracy: 0.9839 - val_loss: 449.5479 - val_accuracy: 0.9813\n",
      "Epoch 27/500\n",
      "577/577 [==============================] - 2s 3ms/step - loss: 473.2184 - accuracy: 0.9850 - val_loss: 449.5162 - val_accuracy: 0.9879\n",
      "Epoch 28/500\n",
      "577/577 [==============================] - 2s 3ms/step - loss: 473.1977 - accuracy: 0.9864 - val_loss: 449.4907 - val_accuracy: 0.9866\n",
      "Epoch 29/500\n",
      "577/577 [==============================] - 2s 3ms/step - loss: 473.1598 - accuracy: 0.9872 - val_loss: 449.4536 - val_accuracy: 0.9889\n",
      "Epoch 30/500\n",
      "577/577 [==============================] - 2s 3ms/step - loss: 473.1083 - accuracy: 0.9865 - val_loss: 449.3796 - val_accuracy: 0.9849\n",
      "Epoch 31/500\n",
      "577/577 [==============================] - 2s 3ms/step - loss: 473.0601 - accuracy: 0.9893 - val_loss: 449.3424 - val_accuracy: 0.9879\n",
      "Epoch 32/500\n",
      "577/577 [==============================] - 2s 3ms/step - loss: 473.0346 - accuracy: 0.9881 - val_loss: 449.3246 - val_accuracy: 0.9815\n",
      "Epoch 33/500\n",
      "577/577 [==============================] - 2s 3ms/step - loss: 473.0153 - accuracy: 0.9879 - val_loss: 449.3118 - val_accuracy: 0.9894\n",
      "Epoch 34/500\n",
      "577/577 [==============================] - 2s 3ms/step - loss: 473.0046 - accuracy: 0.9873 - val_loss: 449.2864 - val_accuracy: 0.9882\n",
      "Epoch 35/500\n",
      "577/577 [==============================] - 2s 3ms/step - loss: 472.9800 - accuracy: 0.9879 - val_loss: 449.2709 - val_accuracy: 0.9855\n",
      "Epoch 36/500\n",
      "577/577 [==============================] - 2s 3ms/step - loss: 472.9661 - accuracy: 0.9894 - val_loss: 449.2620 - val_accuracy: 0.9868\n",
      "Epoch 37/500\n",
      "577/577 [==============================] - 2s 3ms/step - loss: 472.9554 - accuracy: 0.9892 - val_loss: 449.2535 - val_accuracy: 0.9851\n",
      "Epoch 38/500\n",
      "577/577 [==============================] - 2s 3ms/step - loss: 472.9456 - accuracy: 0.9900 - val_loss: 449.2403 - val_accuracy: 0.9862\n",
      "Epoch 39/500\n",
      "577/577 [==============================] - 2s 4ms/step - loss: 472.9349 - accuracy: 0.9904 - val_loss: 449.2309 - val_accuracy: 0.9889\n",
      "Epoch 40/500\n",
      "577/577 [==============================] - 2s 4ms/step - loss: 472.9269 - accuracy: 0.9890 - val_loss: 449.2239 - val_accuracy: 0.9896\n",
      "Epoch 41/500\n",
      "577/577 [==============================] - 2s 4ms/step - loss: 472.9184 - accuracy: 0.9908 - val_loss: 449.2172 - val_accuracy: 0.9910\n",
      "Epoch 42/500\n",
      "577/577 [==============================] - 2s 4ms/step - loss: 472.9132 - accuracy: 0.9912 - val_loss: 449.2243 - val_accuracy: 0.9881\n",
      "Model: \"sequential_2\"\n",
      "_________________________________________________________________\n",
      "Layer (type)                 Output Shape              Param #   \n",
      "=================================================================\n",
      "lstm_2 (LSTM)                (None, 99, 64)            17408     \n",
      "_________________________________________________________________\n",
      "dense_2 (Dense)              (None, 99, 3)             195       \n",
      "=================================================================\n",
      "Total params: 17,603\n",
      "Trainable params: 17,603\n",
      "Non-trainable params: 0\n",
      "_________________________________________________________________\n"
     ]
    }
   ],
   "source": [
    "#LSTM 모델 생성\n",
    "\n",
    "from keras.layers import TimeDistributed\n",
    "from keras.layers import InputLayer\n",
    "from keras.layers import Reshape\n",
    "\n",
    "model = Sequential() # Sequeatial Model \n",
    "\n",
    "model.add(LSTM(64,return_sequences=True, input_shape=(num_sequence,num_feature)))  \n",
    "model.add(Dense(3, activation='softmax')) # 3개의 예측\n",
    "model.compile(loss='categorical_crossentropy', optimizer='adam', metrics=['accuracy']) \n",
    "\n",
    "from keras.callbacks import EarlyStopping\n",
    "early_stopping = EarlyStopping()\n",
    "history=model.fit(trainX, trainY, epochs=500, batch_size=20, validation_split=0.2, verbose=1,callbacks=[early_stopping])\n",
    "\n",
    "model.summary()"
   ]
  },
  {
   "cell_type": "code",
   "execution_count": 11,
   "metadata": {
    "scrolled": true
   },
   "outputs": [
    {
     "name": "stdout",
     "output_type": "stream",
     "text": [
      "309/309 [==============================] - 0s 1ms/step\n",
      "정확도:  [468.6886153236562, 0.9901278018951416]\n",
      "y:  [[[184.         323.           0.        ]\n",
      "  [184.         323.           0.        ]\n",
      "  [184.         323.           0.        ]\n",
      "  ...\n",
      "  [391.         190.           0.        ]\n",
      "  [391.         190.           0.        ]\n",
      "  [391.         190.           0.        ]]\n",
      "\n",
      " [[325.         222.           0.        ]\n",
      "  [325.         222.           0.        ]\n",
      "  [325.         222.           0.        ]\n",
      "  ...\n",
      "  [252.         346.           6.40312424]\n",
      "  [248.         351.           0.        ]\n",
      "  [248.         351.           0.        ]]\n",
      "\n",
      " [[141.         525.           0.        ]\n",
      "  [141.         525.           0.        ]\n",
      "  [141.         525.           0.        ]\n",
      "  ...\n",
      "  [277.         421.           5.        ]\n",
      "  [281.         418.           0.        ]\n",
      "  [281.         418.           3.60555128]]\n",
      "\n",
      " ...\n",
      "\n",
      " [[467.         280.           0.        ]\n",
      "  [467.         280.           0.        ]\n",
      "  [467.         280.           0.        ]\n",
      "  ...\n",
      "  [339.         266.           1.        ]\n",
      "  [339.         265.           0.        ]\n",
      "  [339.         265.           0.        ]]\n",
      "\n",
      " [[336.         262.           0.        ]\n",
      "  [336.         262.           0.        ]\n",
      "  [336.         262.           0.        ]\n",
      "  ...\n",
      "  [311.         396.           0.        ]\n",
      "  [311.         396.           7.        ]\n",
      "  [311.         403.           0.        ]]\n",
      "\n",
      " [[318.         440.           1.        ]\n",
      "  [318.         439.           0.        ]\n",
      "  [318.         439.           2.23606798]\n",
      "  ...\n",
      "  [182.         231.           0.        ]\n",
      "  [182.         231.           0.        ]\n",
      "  [182.         231.           3.60555128]]]\n",
      "predict:  [[[2.4234131e-01 7.5554097e-01 2.1177961e-03]\n",
      "  [2.3800093e-01 7.6142538e-01 5.7369977e-04]\n",
      "  [2.3565014e-01 7.6383799e-01 5.1186810e-04]\n",
      "  ...\n",
      "  [4.9309477e-01 4.9849838e-01 8.4068794e-03]\n",
      "  [4.9267441e-01 5.0712329e-01 2.0228192e-04]\n",
      "  [4.9686235e-01 5.0270432e-01 4.3330755e-04]]\n",
      "\n",
      " [[5.4716063e-01 4.5157269e-01 1.2666720e-03]\n",
      "  [5.5139452e-01 4.4820106e-01 4.0446123e-04]\n",
      "  [5.5461746e-01 4.4503945e-01 3.4305683e-04]\n",
      "  ...\n",
      "  [4.0497294e-01 5.9467131e-01 3.5573286e-04]\n",
      "  [4.0290922e-01 5.9637851e-01 7.1229081e-04]\n",
      "  [4.0383604e-01 5.9586728e-01 2.9668913e-04]]\n",
      "\n",
      " [[4.2672291e-01 5.7181674e-01 1.4603230e-03]\n",
      "  [4.1098750e-01 5.8861220e-01 4.0030890e-04]\n",
      "  [4.0825570e-01 5.9140801e-01 3.3631033e-04]\n",
      "  ...\n",
      "  [3.9406568e-01 6.0571575e-01 2.1862630e-04]\n",
      "  [3.8751408e-01 6.0278690e-01 9.6990010e-03]\n",
      "  [3.9104143e-01 6.0873628e-01 2.2223685e-04]]\n",
      "\n",
      " ...\n",
      "\n",
      " [[4.2735261e-01 5.7147348e-01 1.1739552e-03]\n",
      "  [4.1108397e-01 5.8862549e-01 2.9055876e-04]\n",
      "  [4.0861234e-01 5.9114778e-01 2.3987911e-04]\n",
      "  ...\n",
      "  [3.4542653e-01 6.5303797e-01 1.5354401e-03]\n",
      "  [3.3994082e-01 6.5973639e-01 3.2281858e-04]\n",
      "  [3.4024218e-01 6.5937245e-01 3.8539752e-04]]\n",
      "\n",
      " [[3.4646556e-01 6.5172267e-01 1.8117889e-03]\n",
      "  [3.2060912e-01 6.7892039e-01 4.7048365e-04]\n",
      "  [3.1689492e-01 6.8270606e-01 3.9901622e-04]\n",
      "  ...\n",
      "  [1.7935041e-01 8.2032353e-01 3.2606401e-04]\n",
      "  [1.8175840e-01 8.1778359e-01 4.5794924e-04]\n",
      "  [1.8200129e-01 8.0548078e-01 1.2517969e-02]]\n",
      "\n",
      " [[3.0601245e-01 6.9219023e-01 1.7972336e-03]\n",
      "  [2.7725002e-01 7.2228575e-01 4.6424445e-04]\n",
      "  [2.7288842e-01 7.2671592e-01 3.9570490e-04]\n",
      "  ...\n",
      "  [2.4582754e-01 7.5305641e-01 1.1160258e-03]\n",
      "  [2.4308339e-01 7.5643373e-01 4.8286334e-04]\n",
      "  [2.4396560e-01 7.5548321e-01 5.5130449e-04]]]\n"
     ]
    }
   ],
   "source": [
    "print(\"정확도: \",(model.evaluate(testX, testY)))\n",
    "\n",
    "trainPredict = model.predict(trainX)\n",
    "testPredict = model.predict(testX)\n",
    "print('y: ',trainY)\n",
    "print('predict: ',testPredict)"
   ]
  },
  {
   "cell_type": "code",
   "execution_count": 18,
   "metadata": {},
   "outputs": [
    {
     "data": {
      "image/png": "[encoded data removed]",
      "text/plain": [
       "<Figure size 432x288 with 2 Axes>"
      ]
     },
     "metadata": {
      "needs_background": "light"
     },
     "output_type": "display_data"
    }
   ],
   "source": [
    "fig, loss_ax = plt.subplots()\n",
    "\n",
    "acc_ax = loss_ax.twinx()\n",
    "\n",
    "loss_ax.plot(history.history['loss'], 'y', label='train loss')\n",
    "loss_ax.plot(history.history['val_loss'], 'r', label='val loss')\n",
    "\n",
    "acc_ax.plot(history.history['accuracy'], 'b', label='train acc')\n",
    "acc_ax.plot(history.history['val_accuracy'], 'g', label='val acc')\n",
    "\n",
    "loss_ax.set_xlabel('epoch')\n",
    "loss_ax.set_ylabel('loss')\n",
    "acc_ax.set_ylabel('accuray')\n",
    "\n",
    "loss_ax.legend(loc='upper left')\n",
    "acc_ax.legend(loc='lower left')\n",
    "\n",
    "plt.show()"
   ]
  },
  {
   "cell_type": "code",
   "execution_count": 17,
   "metadata": {
    "scrolled": true
   },
   "outputs": [
    {
     "name": "stdout",
     "output_type": "stream",
     "text": [
      "(309, 99, 3)\n"
     ]
    }
   ],
   "source": [
    "#trainY -> (x,y)\n",
    "Yx_train_plt=((x_data) * 0.70)\n",
    "Yx_train_plt=np.array(Yx_train_plt)\n",
    "\n",
    "Yy_train_plt=((y_data) * 0.70)\n",
    "Yy_train_plt=np.array(Yy_train_plt)\n",
    "\n",
    "#testX -> (x,y)\n",
    "print(testPredict.shape)\n",
    "\n",
    "Xx_test_plt=[]\n",
    "Xy_test_plt=[]\n",
    "\n",
    "for i in range(309):\n",
    "    for j in range(99):\n",
    "        Xx_test_plt.append(testPredict[i,j,0])\n",
    "        Xy_test_plt.append(testPredict[i,j,1])\n",
    "        \n",
    "        j = j + 1\n",
    "    i = i + 1\n"
   ]
  },
  {
   "cell_type": "code",
   "execution_count": 18,
   "metadata": {
    "scrolled": false
   },
   "outputs": [
    {
     "data": {
      "image/png": "[encoded data removed]",
      "text/plain": [
       "<Figure size 432x288 with 1 Axes>"
      ]
     },
     "metadata": {
      "needs_background": "light"
     },
     "output_type": "display_data"
    },
    {
     "data": {
      "image/png": "[encoded data removed]",
      "text/plain": [
       "<Figure size 432x288 with 1 Axes>"
      ]
     },
     "metadata": {
      "needs_background": "light"
     },
     "output_type": "display_data"
    }
   ],
   "source": [
    "plt.title('coordinate')\n",
    "plt.ylabel('y')\n",
    "plt.xlabel('x')\n",
    "\n",
    "plt.plot(Yx_train_plt,Yy_train_plt) #trainY -> (x,y) , blue\n",
    "plt.show()\n",
    "\n",
    "plt.plot(Xx_test_plt,Xy_test_plt) #testX -> (x,y)\n",
    "plt.show()"
   ]
  },
  {
   "cell_type": "code",
   "execution_count": null,
   "metadata": {},
   "outputs": [],
   "source": []
  }
 ],
 "metadata": {
  "kernelspec": {
   "display_name": "Python 3",
   "language": "python",
   "name": "python3"
  },
  "language_info": {
   "codemirror_mode": {
    "name": "ipython",
    "version": 3
   },
   "file_extension": ".py",
   "mimetype": "text/x-python",
   "name": "python",
   "nbconvert_exporter": "python",
   "pygments_lexer": "ipython3",
   "version": "3.7.7"
  }
 },
 "nbformat": 4,
 "nbformat_minor": 4
}
