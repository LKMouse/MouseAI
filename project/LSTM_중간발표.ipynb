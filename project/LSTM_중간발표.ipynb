{
 "cells": [
  {
   "cell_type": "code",
   "execution_count": 1,
   "metadata": {},
   "outputs": [
    {
     "name": "stderr",
     "output_type": "stream",
     "text": [
      "Using TensorFlow backend.\n"
     ]
    }
   ],
   "source": [
    "# LSTM for international airline passengers problem with memory\n",
    "import numpy\n",
    "import matplotlib.pyplot as plt\n",
    "from pandas import read_csv\n",
    "import math\n",
    "from keras.models import Sequential\n",
    "from keras.layers import Dense\n",
    "from keras.layers import LSTM\n",
    "from sklearn.preprocessing import MinMaxScaler\n",
    "from sklearn.metrics import mean_squared_error\n",
    "import pandas as pd\n",
    "import numpy as np"
   ]
  },
  {
   "cell_type": "code",
   "execution_count": 2,
   "metadata": {},
   "outputs": [],
   "source": [
    "# convert an array of values into a dataset matrix\n",
    "def create_dataset(dataset, look_back=1):\n",
    "    dataX, dataY = [],[] \n",
    "    for i in range(len(dataset)-look_back-1):\n",
    "        a = dataset[i:(i+look_back):]\n",
    "        dataX.append(a)\n",
    "        dataY.append(dataset[i:(i + look_back):])\n",
    "    \n",
    "    dataX=np.squeeze(dataX,axis=1) #차원 축소\n",
    "    dataY=np.squeeze(dataY,axis=1) #차원 축소\n",
    "    return np.array(dataX), np.array(dataY)"
   ]
  },
  {
   "cell_type": "code",
   "execution_count": 3,
   "metadata": {},
   "outputs": [],
   "source": [
    "# fix random seed for reproducibility\n",
    "numpy.random.seed(7)"
   ]
  },
  {
   "cell_type": "code",
   "execution_count": 4,
   "metadata": {},
   "outputs": [
    {
     "name": "stdout",
     "output_type": "stream",
     "text": [
      "(257, 99, 3)\n"
     ]
    }
   ],
   "source": [
    "data1=pd.read_excel('x_data.xls') #x좌표 엑셀 데이터 불러옴 \n",
    "data2=pd.read_excel('y_data.xls') #y좌표 엑셀 데이터 불러옴 \n",
    "data3=pd.read_excel('speed.xls') #speed좌표 엑셀 데이터 불러옴 \n",
    "\n",
    "pddata1=pd.DataFrame(data1) \n",
    "pddata1.head()\n",
    "pddata2=pd.DataFrame(data2) \n",
    "pddata2.head()\n",
    "pddata3=pd.DataFrame(data3) \n",
    "pddata3.head()\n",
    "\n",
    "hap=[] #진짜 합\n",
    "for j in range(len(pddata1)):\n",
    "    x_data=np.array(pddata1.loc[j])\n",
    "    y_data=np.array(pddata2.loc[j])\n",
    "    s_data=np.array(pddata3.loc[j])\n",
    "\n",
    "    hap1=[] #[x,y,속력] 데이터를 저장하고 있는 리스트\n",
    "    \n",
    "    for i in range(len(s_data)): \n",
    "        sum=[] #리스트 하나당 임시로 x,y,속력을 저장할 리스트 (for문 돌릴때마다 초기화)\n",
    "        sum.append(x_data[i]) #x넣음\n",
    "        sum.append(y_data[i]) #y넣음\n",
    "        sum.append(s_data[i]) #속력넣음\n",
    "        hap1.append(sum) #[x,y,속력] 하나의 리스트를 hap리스트에 넣음  \n",
    "\n",
    "    j = j + 1\n",
    "    \n",
    "    hap.append(hap1)\n",
    "\n",
    "n1 = np.array(hap)\n",
    "print(n1.shape) #257,99,3 257개의 Sample과 99개 시계열, 3개 feature(x,y,속력)"
   ]
  },
  {
   "cell_type": "code",
   "execution_count": 5,
   "metadata": {},
   "outputs": [],
   "source": [
    "num_sample = n1.shape[0] # 257개 Sample 데이터\n",
    "num_sequence = n1.shape[1] # 99개 시계열 데이터\n",
    "num_feature = n1.shape[2] #3개 Feature\n",
    "\n",
    "dataset = n1"
   ]
  },
  {
   "cell_type": "code",
   "execution_count": 6,
   "metadata": {},
   "outputs": [
    {
     "data": {
      "text/plain": [
       "array([[[388.        , 252.        ,   0.        ],\n",
       "        [388.        , 252.        ,   0.        ],\n",
       "        [388.        , 252.        ,   0.        ],\n",
       "        ...,\n",
       "        [224.        , 357.        ,   0.        ],\n",
       "        [224.        , 357.        ,   0.        ],\n",
       "        [224.        , 357.        ,   0.        ]],\n",
       "\n",
       "       [[210.        , 371.        ,   0.        ],\n",
       "        [210.        , 371.        ,   0.        ],\n",
       "        [210.        , 371.        ,   0.        ],\n",
       "        ...,\n",
       "        [335.        , 426.        ,   0.        ],\n",
       "        [335.        , 426.        ,   0.        ],\n",
       "        [335.        , 426.        ,   2.        ]],\n",
       "\n",
       "       [[563.        , 328.        ,   0.        ],\n",
       "        [563.        , 328.        ,   0.        ],\n",
       "        [563.        , 328.        ,   0.        ],\n",
       "        ...,\n",
       "        [407.        , 433.        ,   0.        ],\n",
       "        [407.        , 433.        ,   0.        ],\n",
       "        [407.        , 433.        ,   0.        ]],\n",
       "\n",
       "       ...,\n",
       "\n",
       "       [[405.        , 275.        ,   0.        ],\n",
       "        [405.        , 275.        ,   0.        ],\n",
       "        [405.        , 275.        ,   0.        ],\n",
       "        ...,\n",
       "        [206.        , 422.        ,   0.        ],\n",
       "        [206.        , 422.        ,   0.        ],\n",
       "        [206.        , 422.        ,   0.        ]],\n",
       "\n",
       "       [[201.        , 423.        ,   0.        ],\n",
       "        [201.        , 423.        ,   0.        ],\n",
       "        [201.        , 423.        ,   0.        ],\n",
       "        ...,\n",
       "        [180.        , 501.        ,   2.        ],\n",
       "        [180.        , 503.        ,   0.        ],\n",
       "        [180.        , 503.        ,   0.        ]],\n",
       "\n",
       "       [[180.        , 545.        ,   0.        ],\n",
       "        [180.        , 545.        ,   0.        ],\n",
       "        [180.        , 545.        ,   0.        ],\n",
       "        ...,\n",
       "        [219.        , 285.        ,   9.05538514],\n",
       "        [218.        , 276.        ,   0.        ],\n",
       "        [218.        , 276.        ,   9.48683298]]])"
      ]
     },
     "execution_count": 6,
     "metadata": {},
     "output_type": "execute_result"
    }
   ],
   "source": [
    "dataset"
   ]
  },
  {
   "cell_type": "code",
   "execution_count": 7,
   "metadata": {},
   "outputs": [],
   "source": [
    "train_size = int(len(dataset) * 0.70) #학습 데이터 70%\n",
    "test_size = len(dataset) - train_size #테스트 데이터 30%\n",
    "train, test = dataset[0:train_size,:], dataset[train_size:len(dataset),:]"
   ]
  },
  {
   "cell_type": "code",
   "execution_count": 8,
   "metadata": {},
   "outputs": [
    {
     "data": {
      "text/plain": [
       "array([[[388.        , 252.        ,   0.        ],\n",
       "        [388.        , 252.        ,   0.        ],\n",
       "        [388.        , 252.        ,   0.        ],\n",
       "        ...,\n",
       "        [224.        , 357.        ,   0.        ],\n",
       "        [224.        , 357.        ,   0.        ],\n",
       "        [224.        , 357.        ,   0.        ]],\n",
       "\n",
       "       [[210.        , 371.        ,   0.        ],\n",
       "        [210.        , 371.        ,   0.        ],\n",
       "        [210.        , 371.        ,   0.        ],\n",
       "        ...,\n",
       "        [335.        , 426.        ,   0.        ],\n",
       "        [335.        , 426.        ,   0.        ],\n",
       "        [335.        , 426.        ,   2.        ]],\n",
       "\n",
       "       [[563.        , 328.        ,   0.        ],\n",
       "        [563.        , 328.        ,   0.        ],\n",
       "        [563.        , 328.        ,   0.        ],\n",
       "        ...,\n",
       "        [407.        , 433.        ,   0.        ],\n",
       "        [407.        , 433.        ,   0.        ],\n",
       "        [407.        , 433.        ,   0.        ]],\n",
       "\n",
       "       ...,\n",
       "\n",
       "       [[379.        , 280.        ,   0.        ],\n",
       "        [379.        , 280.        ,   0.        ],\n",
       "        [379.        , 280.        ,   0.        ],\n",
       "        ...,\n",
       "        [196.        , 391.        ,   0.        ],\n",
       "        [196.        , 391.        ,   2.82842712],\n",
       "        [194.        , 393.        ,   0.        ]],\n",
       "\n",
       "       [[189.        , 400.        ,   0.        ],\n",
       "        [189.        , 400.        ,   0.        ],\n",
       "        [189.        , 400.        ,   0.        ],\n",
       "        ...,\n",
       "        [192.        , 497.        ,   0.        ],\n",
       "        [192.        , 497.        ,   2.        ],\n",
       "        [192.        , 499.        ,   0.        ]],\n",
       "\n",
       "       [[192.        , 528.        ,   0.        ],\n",
       "        [192.        , 528.        ,   0.        ],\n",
       "        [192.        , 528.        ,   0.        ],\n",
       "        ...,\n",
       "        [379.        , 469.        ,   0.        ],\n",
       "        [379.        , 469.        ,   0.        ],\n",
       "        [379.        , 469.        ,   0.        ]]])"
      ]
     },
     "execution_count": 8,
     "metadata": {},
     "output_type": "execute_result"
    }
   ],
   "source": [
    "train"
   ]
  },
  {
   "cell_type": "code",
   "execution_count": 9,
   "metadata": {},
   "outputs": [
    {
     "data": {
      "text/plain": [
       "array([[[383.        , 461.        ,   0.        ],\n",
       "        [383.        , 461.        ,   0.        ],\n",
       "        [383.        , 461.        ,   0.        ],\n",
       "        ...,\n",
       "        [414.        , 396.        ,   0.        ],\n",
       "        [414.        , 396.        ,   4.24264069],\n",
       "        [417.        , 393.        ,   0.        ]],\n",
       "\n",
       "       [[511.        , 314.        ,   0.        ],\n",
       "        [511.        , 314.        ,   0.        ],\n",
       "        [511.        , 314.        ,   0.        ],\n",
       "        ...,\n",
       "        [531.        , 443.        ,   0.        ],\n",
       "        [531.        , 443.        ,   1.41421356],\n",
       "        [532.        , 444.        ,   0.        ]],\n",
       "\n",
       "       [[534.        , 456.        ,   0.        ],\n",
       "        [534.        , 456.        ,   0.        ],\n",
       "        [534.        , 456.        ,   0.        ],\n",
       "        ...,\n",
       "        [424.        , 532.        ,   0.        ],\n",
       "        [424.        , 532.        ,   0.        ],\n",
       "        [424.        , 532.        ,   2.82842712]],\n",
       "\n",
       "       ...,\n",
       "\n",
       "       [[405.        , 275.        ,   0.        ],\n",
       "        [405.        , 275.        ,   0.        ],\n",
       "        [405.        , 275.        ,   0.        ],\n",
       "        ...,\n",
       "        [206.        , 422.        ,   0.        ],\n",
       "        [206.        , 422.        ,   0.        ],\n",
       "        [206.        , 422.        ,   0.        ]],\n",
       "\n",
       "       [[201.        , 423.        ,   0.        ],\n",
       "        [201.        , 423.        ,   0.        ],\n",
       "        [201.        , 423.        ,   0.        ],\n",
       "        ...,\n",
       "        [180.        , 501.        ,   2.        ],\n",
       "        [180.        , 503.        ,   0.        ],\n",
       "        [180.        , 503.        ,   0.        ]],\n",
       "\n",
       "       [[180.        , 545.        ,   0.        ],\n",
       "        [180.        , 545.        ,   0.        ],\n",
       "        [180.        , 545.        ,   0.        ],\n",
       "        ...,\n",
       "        [219.        , 285.        ,   9.05538514],\n",
       "        [218.        , 276.        ,   0.        ],\n",
       "        [218.        , 276.        ,   9.48683298]]])"
      ]
     },
     "execution_count": 9,
     "metadata": {},
     "output_type": "execute_result"
    }
   ],
   "source": [
    "test"
   ]
  },
  {
   "cell_type": "code",
   "execution_count": 10,
   "metadata": {},
   "outputs": [
    {
     "data": {
      "text/plain": [
       "(257, 99, 3)"
      ]
     },
     "execution_count": 10,
     "metadata": {},
     "output_type": "execute_result"
    }
   ],
   "source": [
    "np.shape(dataset)"
   ]
  },
  {
   "cell_type": "code",
   "execution_count": 11,
   "metadata": {},
   "outputs": [
    {
     "data": {
      "text/plain": [
       "(179, 99, 3)"
      ]
     },
     "execution_count": 11,
     "metadata": {},
     "output_type": "execute_result"
    }
   ],
   "source": [
    "np.shape(train)"
   ]
  },
  {
   "cell_type": "code",
   "execution_count": 12,
   "metadata": {},
   "outputs": [
    {
     "data": {
      "text/plain": [
       "(78, 99, 3)"
      ]
     },
     "execution_count": 12,
     "metadata": {},
     "output_type": "execute_result"
    }
   ],
   "source": [
    "np.shape(test)"
   ]
  },
  {
   "cell_type": "code",
   "execution_count": 13,
   "metadata": {},
   "outputs": [],
   "source": [
    "look_back = 1 #이전 시간 단계 입력변수\n",
    "#X는 지금 t 값이고, Y는 그 다음의 t+1 값임 (즉, X=t, Y=t+1)\n",
    "trainX, trainY = create_dataset(train, look_back)\n",
    "testX, testY = create_dataset(test, look_back)"
   ]
  },
  {
   "cell_type": "code",
   "execution_count": 14,
   "metadata": {},
   "outputs": [
    {
     "data": {
      "text/plain": [
       "(177, 99, 3)"
      ]
     },
     "execution_count": 14,
     "metadata": {},
     "output_type": "execute_result"
    }
   ],
   "source": [
    "np.shape(trainX)"
   ]
  },
  {
   "cell_type": "code",
   "execution_count": 15,
   "metadata": {},
   "outputs": [
    {
     "data": {
      "text/plain": [
       "(76, 99, 3)"
      ]
     },
     "execution_count": 15,
     "metadata": {},
     "output_type": "execute_result"
    }
   ],
   "source": [
    "np.shape(testX)"
   ]
  },
  {
   "cell_type": "code",
   "execution_count": 16,
   "metadata": {},
   "outputs": [
    {
     "data": {
      "text/plain": [
       "(177, 99, 3)"
      ]
     },
     "execution_count": 16,
     "metadata": {},
     "output_type": "execute_result"
    }
   ],
   "source": [
    "np.shape(trainY)"
   ]
  },
  {
   "cell_type": "code",
   "execution_count": 17,
   "metadata": {},
   "outputs": [
    {
     "data": {
      "text/plain": [
       "(76, 99, 3)"
      ]
     },
     "execution_count": 17,
     "metadata": {},
     "output_type": "execute_result"
    }
   ],
   "source": [
    "np.shape(testY)"
   ]
  },
  {
   "cell_type": "code",
   "execution_count": 18,
   "metadata": {
    "scrolled": true
   },
   "outputs": [
    {
     "name": "stdout",
     "output_type": "stream",
     "text": [
      "Train on 141 samples, validate on 36 samples\n",
      "Epoch 1/300\n",
      "141/141 [==============================] - 1s 7ms/step - loss: 858.4653 - accuracy: 0.3568 - val_loss: 806.2862 - val_accuracy: 0.4040\n",
      "Epoch 2/300\n",
      "141/141 [==============================] - 0s 3ms/step - loss: 806.6420 - accuracy: 0.4651 - val_loss: 766.4167 - val_accuracy: 0.5365\n",
      "Epoch 3/300\n",
      "141/141 [==============================] - 0s 3ms/step - loss: 767.0924 - accuracy: 0.5765 - val_loss: 728.7975 - val_accuracy: 0.7840\n",
      "Epoch 4/300\n",
      "141/141 [==============================] - 0s 3ms/step - loss: 727.9520 - accuracy: 0.7823 - val_loss: 693.8781 - val_accuracy: 0.7511\n",
      "Epoch 5/300\n",
      "141/141 [==============================] - 0s 3ms/step - loss: 691.8599 - accuracy: 0.8358 - val_loss: 658.8195 - val_accuracy: 0.8889\n",
      "Epoch 6/300\n",
      "141/141 [==============================] - 0s 3ms/step - loss: 662.3657 - accuracy: 0.9110 - val_loss: 638.9279 - val_accuracy: 0.8763\n",
      "Epoch 7/300\n",
      "141/141 [==============================] - 0s 3ms/step - loss: 643.4609 - accuracy: 0.8928 - val_loss: 621.5125 - val_accuracy: 0.8701\n",
      "Epoch 8/300\n",
      "141/141 [==============================] - 0s 3ms/step - loss: 624.8738 - accuracy: 0.8634 - val_loss: 601.1592 - val_accuracy: 0.8246\n",
      "Epoch 9/300\n",
      "141/141 [==============================] - 0s 3ms/step - loss: 607.5772 - accuracy: 0.8150 - val_loss: 590.3799 - val_accuracy: 0.8485\n",
      "Epoch 10/300\n",
      "141/141 [==============================] - 0s 3ms/step - loss: 596.7573 - accuracy: 0.8658 - val_loss: 580.8999 - val_accuracy: 0.8917\n",
      "Epoch 11/300\n",
      "141/141 [==============================] - 0s 3ms/step - loss: 589.4410 - accuracy: 0.8859 - val_loss: 575.4613 - val_accuracy: 0.8903\n",
      "Epoch 12/300\n",
      "141/141 [==============================] - 0s 3ms/step - loss: 583.3839 - accuracy: 0.8898 - val_loss: 570.8935 - val_accuracy: 0.9032\n",
      "Epoch 13/300\n",
      "141/141 [==============================] - 0s 3ms/step - loss: 579.3781 - accuracy: 0.8925 - val_loss: 567.7318 - val_accuracy: 0.8993\n",
      "Epoch 14/300\n",
      "141/141 [==============================] - 0s 3ms/step - loss: 576.2616 - accuracy: 0.8940 - val_loss: 564.5313 - val_accuracy: 0.8973\n",
      "Epoch 15/300\n",
      "141/141 [==============================] - 0s 3ms/step - loss: 572.7728 - accuracy: 0.8940 - val_loss: 561.1489 - val_accuracy: 0.8976\n",
      "Epoch 16/300\n",
      "141/141 [==============================] - 0s 3ms/step - loss: 569.8237 - accuracy: 0.8938 - val_loss: 558.7700 - val_accuracy: 0.8987\n",
      "Epoch 17/300\n",
      "141/141 [==============================] - 0s 3ms/step - loss: 567.7183 - accuracy: 0.8947 - val_loss: 557.0115 - val_accuracy: 0.8987\n",
      "Epoch 18/300\n",
      "141/141 [==============================] - 0s 3ms/step - loss: 566.1649 - accuracy: 0.8941 - val_loss: 555.5844 - val_accuracy: 0.8967\n",
      "Epoch 19/300\n",
      "141/141 [==============================] - 0s 3ms/step - loss: 565.0132 - accuracy: 0.8879 - val_loss: 554.5733 - val_accuracy: 0.8838\n",
      "Epoch 20/300\n",
      "141/141 [==============================] - 0s 3ms/step - loss: 563.8960 - accuracy: 0.8890 - val_loss: 553.4681 - val_accuracy: 0.8925\n",
      "Epoch 21/300\n",
      "141/141 [==============================] - 0s 3ms/step - loss: 562.8816 - accuracy: 0.8909 - val_loss: 552.6042 - val_accuracy: 0.8984\n",
      "Epoch 22/300\n",
      "141/141 [==============================] - 0s 3ms/step - loss: 562.1090 - accuracy: 0.8935 - val_loss: 551.8466 - val_accuracy: 0.8967\n",
      "Epoch 23/300\n",
      "141/141 [==============================] - 0s 3ms/step - loss: 561.2821 - accuracy: 0.8972 - val_loss: 551.0833 - val_accuracy: 0.8976\n",
      "Epoch 24/300\n",
      "141/141 [==============================] - 0s 3ms/step - loss: 560.5420 - accuracy: 0.8950 - val_loss: 550.4682 - val_accuracy: 0.8909\n",
      "Epoch 25/300\n",
      "141/141 [==============================] - 0s 3ms/step - loss: 559.8717 - accuracy: 0.8948 - val_loss: 549.8533 - val_accuracy: 0.8928\n",
      "Epoch 26/300\n",
      "141/141 [==============================] - 0s 3ms/step - loss: 559.3235 - accuracy: 0.9016 - val_loss: 549.3440 - val_accuracy: 0.8993\n",
      "Epoch 27/300\n",
      "141/141 [==============================] - 0s 3ms/step - loss: 558.8367 - accuracy: 0.9030 - val_loss: 548.8643 - val_accuracy: 0.9007\n",
      "Epoch 28/300\n",
      "141/141 [==============================] - 0s 3ms/step - loss: 558.3436 - accuracy: 0.9032 - val_loss: 548.4372 - val_accuracy: 0.8973\n",
      "Epoch 29/300\n",
      "141/141 [==============================] - 0s 3ms/step - loss: 557.8668 - accuracy: 0.9009 - val_loss: 548.0190 - val_accuracy: 0.8841\n",
      "Epoch 30/300\n",
      "141/141 [==============================] - 0s 3ms/step - loss: 557.4990 - accuracy: 0.8966 - val_loss: 547.7024 - val_accuracy: 0.8808\n",
      "Epoch 31/300\n",
      "141/141 [==============================] - 0s 3ms/step - loss: 557.0887 - accuracy: 0.8996 - val_loss: 547.3139 - val_accuracy: 0.8945\n",
      "Epoch 32/300\n",
      "141/141 [==============================] - 0s 3ms/step - loss: 556.6831 - accuracy: 0.9025 - val_loss: 546.9352 - val_accuracy: 0.9001\n",
      "Epoch 33/300\n",
      "141/141 [==============================] - 0s 3ms/step - loss: 556.3468 - accuracy: 0.9029 - val_loss: 546.6163 - val_accuracy: 0.9012\n",
      "Epoch 34/300\n",
      "141/141 [==============================] - 0s 3ms/step - loss: 556.0468 - accuracy: 0.9033 - val_loss: 546.3364 - val_accuracy: 0.9010\n",
      "Epoch 35/300\n",
      "141/141 [==============================] - 0s 3ms/step - loss: 555.8098 - accuracy: 0.9055 - val_loss: 546.2190 - val_accuracy: 0.8951\n",
      "Epoch 36/300\n",
      "141/141 [==============================] - 0s 3ms/step - loss: 555.5461 - accuracy: 0.9039 - val_loss: 545.7572 - val_accuracy: 0.8967\n",
      "Epoch 37/300\n",
      "141/141 [==============================] - 0s 3ms/step - loss: 555.2058 - accuracy: 0.9034 - val_loss: 545.4663 - val_accuracy: 0.8970\n",
      "Epoch 38/300\n",
      "141/141 [==============================] - 0s 3ms/step - loss: 554.9578 - accuracy: 0.9034 - val_loss: 545.2152 - val_accuracy: 0.8965\n",
      "Epoch 39/300\n",
      "141/141 [==============================] - 0s 3ms/step - loss: 554.6703 - accuracy: 0.9041 - val_loss: 545.0654 - val_accuracy: 0.8953\n",
      "Epoch 40/300\n",
      "141/141 [==============================] - 0s 3ms/step - loss: 554.4230 - accuracy: 0.9047 - val_loss: 544.7035 - val_accuracy: 0.8979\n",
      "Epoch 41/300\n",
      "141/141 [==============================] - 0s 3ms/step - loss: 554.2308 - accuracy: 0.9080 - val_loss: 544.5212 - val_accuracy: 0.9010\n",
      "Epoch 42/300\n",
      "141/141 [==============================] - 0s 3ms/step - loss: 553.9822 - accuracy: 0.9046 - val_loss: 544.3423 - val_accuracy: 0.8704\n",
      "Epoch 43/300\n",
      "141/141 [==============================] - 0s 3ms/step - loss: 553.7714 - accuracy: 0.9042 - val_loss: 544.1700 - val_accuracy: 0.8945\n",
      "Epoch 44/300\n",
      "141/141 [==============================] - 0s 3ms/step - loss: 553.5978 - accuracy: 0.9135 - val_loss: 543.9683 - val_accuracy: 0.9015\n",
      "Epoch 45/300\n",
      "141/141 [==============================] - 0s 3ms/step - loss: 553.4371 - accuracy: 0.9103 - val_loss: 543.8372 - val_accuracy: 0.8841\n",
      "Epoch 46/300\n",
      "141/141 [==============================] - 0s 3ms/step - loss: 553.3137 - accuracy: 0.9019 - val_loss: 543.7764 - val_accuracy: 0.8712\n",
      "Epoch 47/300\n",
      "141/141 [==============================] - 0s 3ms/step - loss: 553.1966 - accuracy: 0.9020 - val_loss: 543.5818 - val_accuracy: 0.8953\n",
      "Epoch 48/300\n",
      "141/141 [==============================] - 0s 3ms/step - loss: 553.0325 - accuracy: 0.9130 - val_loss: 543.4463 - val_accuracy: 0.9116\n",
      "Epoch 49/300\n",
      "141/141 [==============================] - 0s 3ms/step - loss: 552.9130 - accuracy: 0.9149 - val_loss: 543.3671 - val_accuracy: 0.8993\n",
      "Epoch 50/300\n",
      "141/141 [==============================] - 0s 3ms/step - loss: 552.7886 - accuracy: 0.9143 - val_loss: 543.2119 - val_accuracy: 0.9082\n",
      "Epoch 51/300\n",
      "141/141 [==============================] - 0s 3ms/step - loss: 552.6480 - accuracy: 0.9198 - val_loss: 543.0903 - val_accuracy: 0.9102\n",
      "Epoch 52/300\n",
      "141/141 [==============================] - 0s 3ms/step - loss: 552.5432 - accuracy: 0.9183 - val_loss: 543.0408 - val_accuracy: 0.9018\n",
      "Epoch 53/300\n",
      "141/141 [==============================] - 0s 3ms/step - loss: 552.4520 - accuracy: 0.9193 - val_loss: 542.8677 - val_accuracy: 0.9184\n",
      "Epoch 54/300\n",
      "141/141 [==============================] - 0s 3ms/step - loss: 552.3396 - accuracy: 0.9254 - val_loss: 542.7749 - val_accuracy: 0.9161\n",
      "Epoch 55/300\n",
      "141/141 [==============================] - 0s 3ms/step - loss: 552.2807 - accuracy: 0.9261 - val_loss: 542.7157 - val_accuracy: 0.9167\n",
      "Epoch 56/300\n"
     ]
    },
    {
     "name": "stdout",
     "output_type": "stream",
     "text": [
      "141/141 [==============================] - 0s 3ms/step - loss: 552.1858 - accuracy: 0.9295 - val_loss: 542.6121 - val_accuracy: 0.9212\n",
      "Epoch 57/300\n",
      "141/141 [==============================] - 0s 3ms/step - loss: 552.0991 - accuracy: 0.9289 - val_loss: 542.6093 - val_accuracy: 0.9147\n",
      "Epoch 58/300\n",
      "141/141 [==============================] - 0s 3ms/step - loss: 552.0095 - accuracy: 0.9302 - val_loss: 542.4410 - val_accuracy: 0.9245\n",
      "Epoch 59/300\n",
      "141/141 [==============================] - 0s 3ms/step - loss: 551.9374 - accuracy: 0.9339 - val_loss: 542.3833 - val_accuracy: 0.9285\n",
      "Epoch 60/300\n",
      "141/141 [==============================] - 0s 3ms/step - loss: 551.8429 - accuracy: 0.9388 - val_loss: 542.3024 - val_accuracy: 0.9276\n",
      "Epoch 61/300\n",
      "141/141 [==============================] - 0s 3ms/step - loss: 551.7848 - accuracy: 0.9381 - val_loss: 542.2505 - val_accuracy: 0.9293\n",
      "Epoch 62/300\n",
      "141/141 [==============================] - 0s 3ms/step - loss: 551.7313 - accuracy: 0.9414 - val_loss: 542.1795 - val_accuracy: 0.9456\n",
      "Epoch 63/300\n",
      "141/141 [==============================] - 0s 3ms/step - loss: 551.6660 - accuracy: 0.9467 - val_loss: 542.1064 - val_accuracy: 0.9408\n",
      "Epoch 64/300\n",
      "141/141 [==============================] - 0s 3ms/step - loss: 551.5958 - accuracy: 0.9461 - val_loss: 542.0729 - val_accuracy: 0.9198\n",
      "Epoch 65/300\n",
      "141/141 [==============================] - 0s 3ms/step - loss: 551.5854 - accuracy: 0.9252 - val_loss: 542.0728 - val_accuracy: 0.9063\n",
      "Epoch 66/300\n",
      "141/141 [==============================] - 0s 3ms/step - loss: 551.4906 - accuracy: 0.9375 - val_loss: 542.0369 - val_accuracy: 0.9450\n",
      "Epoch 67/300\n",
      "141/141 [==============================] - 0s 3ms/step - loss: 551.8519 - accuracy: 0.9521 - val_loss: 541.8817 - val_accuracy: 0.9377\n",
      "Epoch 68/300\n",
      "141/141 [==============================] - 0s 3ms/step - loss: 551.4708 - accuracy: 0.9454 - val_loss: 541.8433 - val_accuracy: 0.9405\n",
      "Epoch 69/300\n",
      "141/141 [==============================] - 0s 3ms/step - loss: 551.3921 - accuracy: 0.9494 - val_loss: 541.7934 - val_accuracy: 0.9506\n",
      "Epoch 70/300\n",
      "141/141 [==============================] - 0s 3ms/step - loss: 551.2960 - accuracy: 0.9526 - val_loss: 541.7238 - val_accuracy: 0.9562\n",
      "Epoch 71/300\n",
      "141/141 [==============================] - 0s 3ms/step - loss: 551.2358 - accuracy: 0.9560 - val_loss: 541.6942 - val_accuracy: 0.9630\n",
      "Epoch 72/300\n",
      "141/141 [==============================] - 0s 3ms/step - loss: 551.2099 - accuracy: 0.9408 - val_loss: 541.7183 - val_accuracy: 0.9046\n",
      "Epoch 73/300\n",
      "141/141 [==============================] - 0s 3ms/step - loss: 551.1618 - accuracy: 0.9399 - val_loss: 541.5878 - val_accuracy: 0.9568\n",
      "Epoch 74/300\n",
      "141/141 [==============================] - 0s 3ms/step - loss: 551.1048 - accuracy: 0.9575 - val_loss: 541.5724 - val_accuracy: 0.9728\n",
      "Epoch 75/300\n",
      "141/141 [==============================] - 0s 3ms/step - loss: 551.0929 - accuracy: 0.9626 - val_loss: 541.5251 - val_accuracy: 0.9717\n",
      "Epoch 76/300\n",
      "141/141 [==============================] - 0s 3ms/step - loss: 551.0829 - accuracy: 0.9617 - val_loss: 541.5275 - val_accuracy: 0.9703\n",
      "Epoch 77/300\n",
      "141/141 [==============================] - 0s 3ms/step - loss: 551.0597 - accuracy: 0.9635 - val_loss: 541.4862 - val_accuracy: 0.9649\n",
      "Epoch 78/300\n",
      "141/141 [==============================] - 0s 3ms/step - loss: 550.9819 - accuracy: 0.9640 - val_loss: 541.4790 - val_accuracy: 0.9655\n",
      "Epoch 79/300\n",
      "141/141 [==============================] - 0s 3ms/step - loss: 550.9567 - accuracy: 0.9656 - val_loss: 541.3933 - val_accuracy: 0.9655\n",
      "Epoch 80/300\n",
      "141/141 [==============================] - 0s 3ms/step - loss: 550.9262 - accuracy: 0.9658 - val_loss: 541.4675 - val_accuracy: 0.9624\n",
      "Epoch 81/300\n",
      "141/141 [==============================] - 0s 3ms/step - loss: 550.9167 - accuracy: 0.9648 - val_loss: 541.4257 - val_accuracy: 0.9565\n",
      "Epoch 82/300\n",
      "141/141 [==============================] - 0s 3ms/step - loss: 550.8884 - accuracy: 0.9610 - val_loss: 541.4133 - val_accuracy: 0.9529\n",
      "Epoch 83/300\n",
      "141/141 [==============================] - 0s 3ms/step - loss: 550.8525 - accuracy: 0.9602 - val_loss: 541.2929 - val_accuracy: 0.9571\n",
      "Epoch 84/300\n",
      "141/141 [==============================] - 0s 3ms/step - loss: 550.8203 - accuracy: 0.9567 - val_loss: 541.2721 - val_accuracy: 0.9596\n",
      "Epoch 85/300\n",
      "141/141 [==============================] - 0s 3ms/step - loss: 550.8175 - accuracy: 0.9620 - val_loss: 541.3510 - val_accuracy: 0.9652\n",
      "Epoch 86/300\n",
      "141/141 [==============================] - 0s 3ms/step - loss: 550.8409 - accuracy: 0.9736 - val_loss: 541.2842 - val_accuracy: 0.9632\n",
      "Epoch 87/300\n",
      "141/141 [==============================] - 0s 3ms/step - loss: 550.7946 - accuracy: 0.9567 - val_loss: 541.3511 - val_accuracy: 0.9621\n",
      "Epoch 88/300\n",
      "141/141 [==============================] - 0s 3ms/step - loss: 550.7697 - accuracy: 0.9759 - val_loss: 541.2485 - val_accuracy: 0.9812\n",
      "Epoch 89/300\n",
      "141/141 [==============================] - 0s 3ms/step - loss: 550.7543 - accuracy: 0.9740 - val_loss: 541.2443 - val_accuracy: 0.9568\n",
      "Epoch 90/300\n",
      "141/141 [==============================] - 0s 3ms/step - loss: 550.7225 - accuracy: 0.9578 - val_loss: 541.2371 - val_accuracy: 0.9731\n",
      "Epoch 91/300\n",
      "141/141 [==============================] - 0s 3ms/step - loss: 550.6843 - accuracy: 0.9736 - val_loss: 541.1431 - val_accuracy: 0.9627\n",
      "Epoch 92/300\n",
      "141/141 [==============================] - 0s 3ms/step - loss: 550.6756 - accuracy: 0.9539 - val_loss: 541.1291 - val_accuracy: 0.9520\n",
      "Epoch 93/300\n",
      "141/141 [==============================] - 0s 3ms/step - loss: 550.6399 - accuracy: 0.9651 - val_loss: 541.1665 - val_accuracy: 0.9705\n",
      "Epoch 94/300\n",
      "141/141 [==============================] - 0s 3ms/step - loss: 550.6379 - accuracy: 0.9728 - val_loss: 541.1012 - val_accuracy: 0.9585\n",
      "Epoch 95/300\n",
      "141/141 [==============================] - 0s 3ms/step - loss: 550.6118 - accuracy: 0.9720 - val_loss: 541.1200 - val_accuracy: 0.9719\n",
      "Epoch 96/300\n",
      "141/141 [==============================] - 0s 3ms/step - loss: 550.5834 - accuracy: 0.9770 - val_loss: 541.0596 - val_accuracy: 0.9694\n",
      "Epoch 97/300\n",
      "141/141 [==============================] - 0s 3ms/step - loss: 550.5685 - accuracy: 0.9741 - val_loss: 541.0866 - val_accuracy: 0.9700\n",
      "Epoch 98/300\n",
      "141/141 [==============================] - 0s 3ms/step - loss: 550.5853 - accuracy: 0.9735 - val_loss: 541.0377 - val_accuracy: 0.9677\n",
      "Epoch 99/300\n",
      "141/141 [==============================] - 0s 3ms/step - loss: 550.5509 - accuracy: 0.9728 - val_loss: 541.0365 - val_accuracy: 0.9759\n",
      "Epoch 100/300\n",
      "141/141 [==============================] - 1s 4ms/step - loss: 550.6056 - accuracy: 0.9834 - val_loss: 541.0446 - val_accuracy: 0.9747\n",
      "Epoch 101/300\n",
      "141/141 [==============================] - 1s 4ms/step - loss: 550.5614 - accuracy: 0.9678 - val_loss: 541.0204 - val_accuracy: 0.9683\n",
      "Epoch 102/300\n",
      "141/141 [==============================] - 1s 4ms/step - loss: 550.5520 - accuracy: 0.9830 - val_loss: 541.0480 - val_accuracy: 0.9792\n",
      "Epoch 103/300\n",
      "141/141 [==============================] - 0s 3ms/step - loss: 550.5199 - accuracy: 0.9764 - val_loss: 541.0087 - val_accuracy: 0.9599\n",
      "Epoch 104/300\n",
      "141/141 [==============================] - 0s 4ms/step - loss: 550.5081 - accuracy: 0.9755 - val_loss: 540.9784 - val_accuracy: 0.9781\n",
      "Epoch 105/300\n",
      "141/141 [==============================] - 0s 4ms/step - loss: 550.4943 - accuracy: 0.9837 - val_loss: 540.9804 - val_accuracy: 0.9745\n",
      "Epoch 106/300\n",
      "141/141 [==============================] - 1s 4ms/step - loss: 550.4963 - accuracy: 0.9782 - val_loss: 540.9500 - val_accuracy: 0.9750\n",
      "Epoch 107/300\n",
      "141/141 [==============================] - 1s 4ms/step - loss: 550.4874 - accuracy: 0.9807 - val_loss: 540.9469 - val_accuracy: 0.9776\n",
      "Epoch 108/300\n",
      "141/141 [==============================] - 1s 4ms/step - loss: 550.4629 - accuracy: 0.9797 - val_loss: 541.0095 - val_accuracy: 0.9719\n",
      "Epoch 109/300\n",
      "141/141 [==============================] - 1s 4ms/step - loss: 550.4870 - accuracy: 0.9815 - val_loss: 540.9271 - val_accuracy: 0.9770\n",
      "Epoch 110/300\n",
      "141/141 [==============================] - 0s 3ms/step - loss: 550.4601 - accuracy: 0.9802 - val_loss: 540.9314 - val_accuracy: 0.9750\n",
      "Epoch 111/300\n"
     ]
    },
    {
     "name": "stdout",
     "output_type": "stream",
     "text": [
      "141/141 [==============================] - 0s 3ms/step - loss: 550.5141 - accuracy: 0.9820 - val_loss: 540.9744 - val_accuracy: 0.9781\n",
      "Epoch 112/300\n",
      "141/141 [==============================] - 0s 4ms/step - loss: 550.4437 - accuracy: 0.9830 - val_loss: 540.9195 - val_accuracy: 0.9745\n",
      "Epoch 113/300\n",
      "141/141 [==============================] - 1s 4ms/step - loss: 550.4314 - accuracy: 0.9824 - val_loss: 540.9110 - val_accuracy: 0.9790\n",
      "Epoch 114/300\n",
      "141/141 [==============================] - 0s 3ms/step - loss: 550.4208 - accuracy: 0.9847 - val_loss: 540.8945 - val_accuracy: 0.9792\n",
      "Epoch 115/300\n",
      "141/141 [==============================] - 0s 4ms/step - loss: 550.4179 - accuracy: 0.9855 - val_loss: 540.8873 - val_accuracy: 0.9801\n",
      "Epoch 116/300\n",
      "141/141 [==============================] - 0s 4ms/step - loss: 550.4165 - accuracy: 0.9867 - val_loss: 540.9651 - val_accuracy: 0.9792\n",
      "Epoch 117/300\n",
      "141/141 [==============================] - 1s 4ms/step - loss: 550.5497 - accuracy: 0.9837 - val_loss: 541.1943 - val_accuracy: 0.9736\n",
      "Epoch 118/300\n",
      "141/141 [==============================] - 0s 4ms/step - loss: 550.4572 - accuracy: 0.9812 - val_loss: 540.8749 - val_accuracy: 0.9776\n",
      "Epoch 119/300\n",
      "141/141 [==============================] - 1s 4ms/step - loss: 550.4236 - accuracy: 0.9827 - val_loss: 540.9303 - val_accuracy: 0.9764\n",
      "Epoch 120/300\n",
      "141/141 [==============================] - 1s 4ms/step - loss: 550.4233 - accuracy: 0.9822 - val_loss: 540.9300 - val_accuracy: 0.9764\n",
      "Epoch 121/300\n",
      "141/141 [==============================] - 1s 4ms/step - loss: 550.3998 - accuracy: 0.9842 - val_loss: 540.8691 - val_accuracy: 0.9756\n",
      "Epoch 122/300\n",
      "141/141 [==============================] - 0s 3ms/step - loss: 550.3867 - accuracy: 0.9830 - val_loss: 540.8421 - val_accuracy: 0.9776\n",
      "Epoch 123/300\n",
      "141/141 [==============================] - 0s 4ms/step - loss: 550.3777 - accuracy: 0.9859 - val_loss: 540.8345 - val_accuracy: 0.9753\n",
      "Epoch 124/300\n",
      "141/141 [==============================] - 0s 3ms/step - loss: 550.3729 - accuracy: 0.9780 - val_loss: 540.8742 - val_accuracy: 0.9778\n",
      "Epoch 125/300\n",
      "141/141 [==============================] - 1s 4ms/step - loss: 550.3748 - accuracy: 0.9855 - val_loss: 540.8318 - val_accuracy: 0.9790\n",
      "Epoch 126/300\n",
      "141/141 [==============================] - 0s 4ms/step - loss: 550.3607 - accuracy: 0.9839 - val_loss: 540.8262 - val_accuracy: 0.9770\n",
      "Epoch 127/300\n",
      "141/141 [==============================] - 1s 4ms/step - loss: 550.3599 - accuracy: 0.9837 - val_loss: 540.8196 - val_accuracy: 0.9801\n",
      "Epoch 128/300\n",
      "141/141 [==============================] - 0s 4ms/step - loss: 550.3536 - accuracy: 0.9883 - val_loss: 540.8378 - val_accuracy: 0.9792\n",
      "Epoch 129/300\n",
      "141/141 [==============================] - 0s 4ms/step - loss: 550.3604 - accuracy: 0.9845 - val_loss: 540.8084 - val_accuracy: 0.9787\n",
      "Epoch 130/300\n",
      "141/141 [==============================] - 1s 4ms/step - loss: 550.3578 - accuracy: 0.9862 - val_loss: 540.8055 - val_accuracy: 0.9795\n",
      "Epoch 131/300\n",
      "141/141 [==============================] - 1s 4ms/step - loss: 550.3423 - accuracy: 0.9864 - val_loss: 540.8245 - val_accuracy: 0.9806\n",
      "Epoch 132/300\n",
      "141/141 [==============================] - 1s 4ms/step - loss: 550.3434 - accuracy: 0.9875 - val_loss: 540.8226 - val_accuracy: 0.9759\n",
      "Epoch 133/300\n",
      "141/141 [==============================] - 1s 4ms/step - loss: 550.3678 - accuracy: 0.9771 - val_loss: 540.8149 - val_accuracy: 0.9815\n",
      "Epoch 134/300\n",
      "141/141 [==============================] - 1s 4ms/step - loss: 550.3530 - accuracy: 0.9872 - val_loss: 540.7877 - val_accuracy: 0.9756\n",
      "Epoch 135/300\n",
      "141/141 [==============================] - 1s 4ms/step - loss: 550.3623 - accuracy: 0.9761 - val_loss: 540.7817 - val_accuracy: 0.9804\n",
      "Epoch 136/300\n",
      "141/141 [==============================] - 1s 4ms/step - loss: 550.3308 - accuracy: 0.9867 - val_loss: 540.7718 - val_accuracy: 0.9834\n",
      "Epoch 137/300\n",
      "141/141 [==============================] - 1s 4ms/step - loss: 550.3172 - accuracy: 0.9852 - val_loss: 540.7678 - val_accuracy: 0.9832\n",
      "Epoch 138/300\n",
      "141/141 [==============================] - 1s 4ms/step - loss: 550.3117 - accuracy: 0.9876 - val_loss: 540.7703 - val_accuracy: 0.9832\n",
      "Epoch 139/300\n",
      "141/141 [==============================] - 1s 4ms/step - loss: 550.3124 - accuracy: 0.9848 - val_loss: 540.8032 - val_accuracy: 0.9806\n",
      "Epoch 140/300\n",
      "141/141 [==============================] - 1s 4ms/step - loss: 550.3214 - accuracy: 0.9860 - val_loss: 540.7610 - val_accuracy: 0.9815\n",
      "Epoch 141/300\n",
      "141/141 [==============================] - 1s 4ms/step - loss: 550.3111 - accuracy: 0.9865 - val_loss: 540.7880 - val_accuracy: 0.9826\n",
      "Epoch 142/300\n",
      "141/141 [==============================] - 1s 4ms/step - loss: 550.3149 - accuracy: 0.9879 - val_loss: 540.7723 - val_accuracy: 0.9826\n",
      "Epoch 143/300\n",
      "141/141 [==============================] - 1s 4ms/step - loss: 550.3095 - accuracy: 0.9856 - val_loss: 540.7532 - val_accuracy: 0.9834\n",
      "Epoch 144/300\n",
      "141/141 [==============================] - 1s 4ms/step - loss: 550.2961 - accuracy: 0.9885 - val_loss: 540.7476 - val_accuracy: 0.9834\n",
      "Epoch 145/300\n",
      "141/141 [==============================] - 1s 4ms/step - loss: 550.2909 - accuracy: 0.9860 - val_loss: 540.7715 - val_accuracy: 0.9829\n",
      "Epoch 146/300\n",
      "141/141 [==============================] - 1s 4ms/step - loss: 550.2867 - accuracy: 0.9877 - val_loss: 540.7576 - val_accuracy: 0.9818\n",
      "Epoch 147/300\n",
      "141/141 [==============================] - 1s 4ms/step - loss: 550.2887 - accuracy: 0.9847 - val_loss: 540.7410 - val_accuracy: 0.9846\n",
      "Epoch 148/300\n",
      "141/141 [==============================] - 1s 4ms/step - loss: 550.2790 - accuracy: 0.9880 - val_loss: 540.7368 - val_accuracy: 0.9829\n",
      "Epoch 149/300\n",
      "141/141 [==============================] - 1s 4ms/step - loss: 550.2768 - accuracy: 0.9877 - val_loss: 540.7338 - val_accuracy: 0.9820\n",
      "Epoch 150/300\n",
      "141/141 [==============================] - 1s 4ms/step - loss: 550.2765 - accuracy: 0.9845 - val_loss: 540.7536 - val_accuracy: 0.9854\n",
      "Epoch 151/300\n",
      "141/141 [==============================] - 1s 4ms/step - loss: 550.2943 - accuracy: 0.9895 - val_loss: 540.7407 - val_accuracy: 0.9798\n",
      "Epoch 152/300\n",
      "141/141 [==============================] - 1s 4ms/step - loss: 550.2913 - accuracy: 0.9852 - val_loss: 540.7869 - val_accuracy: 0.9848\n",
      "Epoch 153/300\n",
      "141/141 [==============================] - 1s 4ms/step - loss: 550.3219 - accuracy: 0.9878 - val_loss: 541.1599 - val_accuracy: 0.9818\n",
      "Epoch 154/300\n",
      "141/141 [==============================] - 1s 4ms/step - loss: 550.6772 - accuracy: 0.9847 - val_loss: 540.7211 - val_accuracy: 0.9860\n",
      "Epoch 155/300\n",
      "141/141 [==============================] - 1s 4ms/step - loss: 551.0501 - accuracy: 0.9885 - val_loss: 541.6691 - val_accuracy: 0.9731\n",
      "Epoch 156/300\n",
      "141/141 [==============================] - 1s 4ms/step - loss: 550.9479 - accuracy: 0.9827 - val_loss: 540.9561 - val_accuracy: 0.9745\n",
      "Epoch 157/300\n",
      "141/141 [==============================] - 1s 4ms/step - loss: 550.5544 - accuracy: 0.9791 - val_loss: 540.9498 - val_accuracy: 0.9683\n",
      "Epoch 158/300\n",
      "141/141 [==============================] - 1s 4ms/step - loss: 550.4427 - accuracy: 0.9750 - val_loss: 540.8029 - val_accuracy: 0.9708\n",
      "Epoch 159/300\n",
      "141/141 [==============================] - 1s 4ms/step - loss: 550.3489 - accuracy: 0.9824 - val_loss: 540.7784 - val_accuracy: 0.9604\n",
      "Epoch 160/300\n",
      "141/141 [==============================] - 1s 4ms/step - loss: 550.3397 - accuracy: 0.9654 - val_loss: 540.7605 - val_accuracy: 0.9829\n",
      "Epoch 161/300\n",
      "141/141 [==============================] - 1s 4ms/step - loss: 550.3095 - accuracy: 0.9801 - val_loss: 540.7394 - val_accuracy: 0.9596\n",
      "Epoch 162/300\n",
      "141/141 [==============================] - 1s 4ms/step - loss: 550.2900 - accuracy: 0.9723 - val_loss: 540.7509 - val_accuracy: 0.9773\n",
      "Epoch 163/300\n",
      "141/141 [==============================] - 1s 4ms/step - loss: 550.2769 - accuracy: 0.9809 - val_loss: 540.7182 - val_accuracy: 0.9683\n",
      "Epoch 164/300\n",
      "141/141 [==============================] - 1s 4ms/step - loss: 550.2758 - accuracy: 0.9719 - val_loss: 540.7131 - val_accuracy: 0.9672\n",
      "Epoch 165/300\n",
      "141/141 [==============================] - 1s 6ms/step - loss: 550.3196 - accuracy: 0.9590 - val_loss: 540.7364 - val_accuracy: 0.9742\n",
      "Epoch 166/300\n"
     ]
    },
    {
     "name": "stdout",
     "output_type": "stream",
     "text": [
      "141/141 [==============================] - 1s 4ms/step - loss: 550.2778 - accuracy: 0.9836 - val_loss: 540.7290 - val_accuracy: 0.9725\n",
      "Epoch 167/300\n",
      "141/141 [==============================] - 1s 4ms/step - loss: 550.2625 - accuracy: 0.9784 - val_loss: 540.7183 - val_accuracy: 0.9823\n",
      "Epoch 168/300\n",
      "141/141 [==============================] - 1s 4ms/step - loss: 550.2549 - accuracy: 0.9823 - val_loss: 540.7097 - val_accuracy: 0.9750\n",
      "Epoch 169/300\n",
      "141/141 [==============================] - 1s 5ms/step - loss: 550.2524 - accuracy: 0.9798 - val_loss: 540.6918 - val_accuracy: 0.9728\n",
      "Epoch 170/300\n",
      "141/141 [==============================] - 1s 5ms/step - loss: 550.2464 - accuracy: 0.9787 - val_loss: 540.6988 - val_accuracy: 0.9826\n",
      "Epoch 171/300\n",
      "141/141 [==============================] - 1s 5ms/step - loss: 550.2458 - accuracy: 0.9828 - val_loss: 540.6933 - val_accuracy: 0.9854\n",
      "Epoch 172/300\n",
      "141/141 [==============================] - 1s 4ms/step - loss: 550.2402 - accuracy: 0.9850 - val_loss: 540.6929 - val_accuracy: 0.9787\n",
      "Epoch 173/300\n",
      "141/141 [==============================] - 1s 4ms/step - loss: 550.2355 - accuracy: 0.9819 - val_loss: 540.6938 - val_accuracy: 0.9784\n",
      "Epoch 174/300\n",
      "141/141 [==============================] - 1s 5ms/step - loss: 550.2373 - accuracy: 0.9833 - val_loss: 540.6914 - val_accuracy: 0.9792\n",
      "Epoch 175/300\n",
      "141/141 [==============================] - 1s 5ms/step - loss: 550.2341 - accuracy: 0.9857 - val_loss: 540.6908 - val_accuracy: 0.9868\n",
      "Epoch 176/300\n",
      "141/141 [==============================] - 1s 5ms/step - loss: 550.2366 - accuracy: 0.9839 - val_loss: 540.6915 - val_accuracy: 0.9806\n",
      "Epoch 177/300\n",
      "141/141 [==============================] - 1s 5ms/step - loss: 550.2329 - accuracy: 0.9849 - val_loss: 540.6791 - val_accuracy: 0.9820\n",
      "Epoch 178/300\n",
      "141/141 [==============================] - 1s 5ms/step - loss: 550.2330 - accuracy: 0.9834 - val_loss: 540.7002 - val_accuracy: 0.9823\n",
      "Epoch 179/300\n",
      "141/141 [==============================] - 1s 4ms/step - loss: 550.2370 - accuracy: 0.9820 - val_loss: 540.6747 - val_accuracy: 0.9798\n",
      "Epoch 180/300\n",
      "141/141 [==============================] - 1s 4ms/step - loss: 550.2319 - accuracy: 0.9830 - val_loss: 540.6864 - val_accuracy: 0.9834\n",
      "Epoch 181/300\n",
      "141/141 [==============================] - 1s 4ms/step - loss: 550.2266 - accuracy: 0.9867 - val_loss: 540.6726 - val_accuracy: 0.9809\n",
      "Epoch 182/300\n",
      "141/141 [==============================] - 1s 4ms/step - loss: 550.2238 - accuracy: 0.9819 - val_loss: 540.6865 - val_accuracy: 0.9770\n",
      "Epoch 183/300\n",
      "141/141 [==============================] - 1s 4ms/step - loss: 550.2677 - accuracy: 0.9829 - val_loss: 540.7057 - val_accuracy: 0.9818\n",
      "Epoch 184/300\n",
      "141/141 [==============================] - 1s 5ms/step - loss: 550.2375 - accuracy: 0.9844 - val_loss: 540.6752 - val_accuracy: 0.9812\n",
      "Epoch 185/300\n",
      "141/141 [==============================] - 1s 4ms/step - loss: 550.2308 - accuracy: 0.9845 - val_loss: 540.6789 - val_accuracy: 0.9806\n",
      "Epoch 186/300\n",
      "141/141 [==============================] - 1s 4ms/step - loss: 550.2197 - accuracy: 0.9827 - val_loss: 540.6775 - val_accuracy: 0.9818\n",
      "Epoch 187/300\n",
      "141/141 [==============================] - 1s 4ms/step - loss: 550.2190 - accuracy: 0.9832 - val_loss: 540.6621 - val_accuracy: 0.9759\n",
      "Epoch 188/300\n",
      "141/141 [==============================] - 1s 4ms/step - loss: 550.2141 - accuracy: 0.9810 - val_loss: 540.6766 - val_accuracy: 0.9767\n",
      "Epoch 189/300\n",
      "141/141 [==============================] - 1s 4ms/step - loss: 550.2133 - accuracy: 0.9824 - val_loss: 540.6603 - val_accuracy: 0.9806\n",
      "Epoch 190/300\n",
      "141/141 [==============================] - 1s 4ms/step - loss: 550.2132 - accuracy: 0.9819 - val_loss: 540.6723 - val_accuracy: 0.9781\n",
      "Epoch 191/300\n",
      "141/141 [==============================] - 1s 4ms/step - loss: 550.2146 - accuracy: 0.9843 - val_loss: 540.6850 - val_accuracy: 0.9801\n",
      "Epoch 192/300\n",
      "141/141 [==============================] - 1s 4ms/step - loss: 550.2691 - accuracy: 0.9823 - val_loss: 540.7800 - val_accuracy: 0.9652\n",
      "Epoch 193/300\n",
      "141/141 [==============================] - 1s 4ms/step - loss: 550.2795 - accuracy: 0.9709 - val_loss: 540.6517 - val_accuracy: 0.9815\n",
      "Epoch 194/300\n",
      "141/141 [==============================] - 1s 4ms/step - loss: 550.2765 - accuracy: 0.9683 - val_loss: 540.7475 - val_accuracy: 0.9795\n",
      "Epoch 195/300\n",
      "141/141 [==============================] - 1s 4ms/step - loss: 550.2637 - accuracy: 0.9850 - val_loss: 540.6709 - val_accuracy: 0.9818\n",
      "Epoch 196/300\n",
      "141/141 [==============================] - 1s 4ms/step - loss: 550.2263 - accuracy: 0.9867 - val_loss: 540.6796 - val_accuracy: 0.9837\n",
      "Epoch 197/300\n",
      "141/141 [==============================] - 1s 4ms/step - loss: 550.2137 - accuracy: 0.9838 - val_loss: 540.6596 - val_accuracy: 0.9820\n",
      "Epoch 198/300\n",
      "141/141 [==============================] - 1s 4ms/step - loss: 550.2060 - accuracy: 0.9870 - val_loss: 540.6524 - val_accuracy: 0.9804\n",
      "Epoch 199/300\n",
      "141/141 [==============================] - 1s 4ms/step - loss: 550.2017 - accuracy: 0.9812 - val_loss: 540.6668 - val_accuracy: 0.9762\n",
      "Epoch 200/300\n",
      "141/141 [==============================] - 1s 4ms/step - loss: 550.2074 - accuracy: 0.9845 - val_loss: 540.6445 - val_accuracy: 0.9804\n",
      "Epoch 201/300\n",
      "141/141 [==============================] - 1s 4ms/step - loss: 550.2018 - accuracy: 0.9864 - val_loss: 540.6562 - val_accuracy: 0.9806\n",
      "Epoch 202/300\n",
      "141/141 [==============================] - 1s 4ms/step - loss: 550.1997 - accuracy: 0.9824 - val_loss: 540.6438 - val_accuracy: 0.9854\n",
      "Epoch 203/300\n",
      "141/141 [==============================] - 0s 3ms/step - loss: 550.2230 - accuracy: 0.9769 - val_loss: 540.6808 - val_accuracy: 0.9905\n",
      "Epoch 204/300\n",
      "141/141 [==============================] - 1s 4ms/step - loss: 550.2173 - accuracy: 0.9880 - val_loss: 540.6538 - val_accuracy: 0.9655\n",
      "Epoch 205/300\n",
      "141/141 [==============================] - 1s 4ms/step - loss: 550.2092 - accuracy: 0.9791 - val_loss: 540.6545 - val_accuracy: 0.9733\n",
      "Epoch 206/300\n",
      "141/141 [==============================] - 1s 4ms/step - loss: 550.2042 - accuracy: 0.9804 - val_loss: 540.6477 - val_accuracy: 0.9829\n",
      "Epoch 207/300\n",
      "141/141 [==============================] - 0s 3ms/step - loss: 550.1997 - accuracy: 0.9870 - val_loss: 540.6509 - val_accuracy: 0.9739\n",
      "Epoch 208/300\n",
      "141/141 [==============================] - 0s 3ms/step - loss: 550.1963 - accuracy: 0.9847 - val_loss: 540.6464 - val_accuracy: 0.9792\n",
      "Epoch 209/300\n",
      "141/141 [==============================] - 0s 3ms/step - loss: 550.1962 - accuracy: 0.9817 - val_loss: 540.6383 - val_accuracy: 0.9792\n",
      "Epoch 210/300\n",
      "141/141 [==============================] - 0s 3ms/step - loss: 550.1891 - accuracy: 0.9842 - val_loss: 540.6473 - val_accuracy: 0.9804\n",
      "Epoch 211/300\n",
      "141/141 [==============================] - 0s 3ms/step - loss: 550.2188 - accuracy: 0.9837 - val_loss: 540.7201 - val_accuracy: 0.9854\n",
      "Epoch 212/300\n",
      "141/141 [==============================] - 0s 3ms/step - loss: 550.2073 - accuracy: 0.9855 - val_loss: 540.6806 - val_accuracy: 0.9767\n",
      "Epoch 213/300\n",
      "141/141 [==============================] - 0s 3ms/step - loss: 550.2105 - accuracy: 0.9824 - val_loss: 540.6652 - val_accuracy: 0.9826\n",
      "Epoch 214/300\n",
      "141/141 [==============================] - 0s 3ms/step - loss: 550.1932 - accuracy: 0.9829 - val_loss: 540.6301 - val_accuracy: 0.9804\n",
      "Epoch 215/300\n",
      "141/141 [==============================] - 0s 3ms/step - loss: 550.1864 - accuracy: 0.9827 - val_loss: 540.6307 - val_accuracy: 0.9770\n",
      "Epoch 216/300\n",
      "141/141 [==============================] - 0s 3ms/step - loss: 550.1806 - accuracy: 0.9813 - val_loss: 540.6371 - val_accuracy: 0.9756\n",
      "Epoch 217/300\n",
      "141/141 [==============================] - 0s 3ms/step - loss: 550.1850 - accuracy: 0.9837 - val_loss: 540.6300 - val_accuracy: 0.9826\n",
      "Epoch 218/300\n",
      "141/141 [==============================] - 0s 3ms/step - loss: 550.1765 - accuracy: 0.9852 - val_loss: 540.6313 - val_accuracy: 0.9798\n",
      "Epoch 219/300\n",
      "141/141 [==============================] - 0s 3ms/step - loss: 550.1807 - accuracy: 0.9808 - val_loss: 540.6307 - val_accuracy: 0.9753\n",
      "Epoch 220/300\n",
      "141/141 [==============================] - 0s 3ms/step - loss: 550.1782 - accuracy: 0.9814 - val_loss: 540.6290 - val_accuracy: 0.9826\n",
      "Epoch 221/300\n"
     ]
    },
    {
     "name": "stdout",
     "output_type": "stream",
     "text": [
      "141/141 [==============================] - 0s 3ms/step - loss: 550.1768 - accuracy: 0.9854 - val_loss: 540.6325 - val_accuracy: 0.9834\n",
      "Epoch 222/300\n",
      "141/141 [==============================] - 0s 3ms/step - loss: 550.1827 - accuracy: 0.9850 - val_loss: 540.6456 - val_accuracy: 0.9753\n",
      "Epoch 223/300\n",
      "141/141 [==============================] - 0s 3ms/step - loss: 550.1856 - accuracy: 0.9843 - val_loss: 540.6300 - val_accuracy: 0.9795\n",
      "Epoch 224/300\n",
      "141/141 [==============================] - 0s 3ms/step - loss: 550.1886 - accuracy: 0.9824 - val_loss: 540.6340 - val_accuracy: 0.9854\n",
      "Epoch 225/300\n",
      "141/141 [==============================] - 1s 4ms/step - loss: 550.1758 - accuracy: 0.9842 - val_loss: 540.6339 - val_accuracy: 0.9826\n",
      "Epoch 226/300\n",
      "141/141 [==============================] - 1s 4ms/step - loss: 550.1761 - accuracy: 0.9857 - val_loss: 540.6294 - val_accuracy: 0.9815\n",
      "Epoch 227/300\n",
      "141/141 [==============================] - 1s 4ms/step - loss: 550.1788 - accuracy: 0.9837 - val_loss: 540.6396 - val_accuracy: 0.9798\n",
      "Epoch 228/300\n",
      "141/141 [==============================] - 1s 4ms/step - loss: 550.1768 - accuracy: 0.9821 - val_loss: 540.6197 - val_accuracy: 0.9806\n",
      "Epoch 229/300\n",
      "141/141 [==============================] - 1s 4ms/step - loss: 550.1693 - accuracy: 0.9836 - val_loss: 540.6203 - val_accuracy: 0.9787\n",
      "Epoch 230/300\n",
      "141/141 [==============================] - 1s 4ms/step - loss: 550.1688 - accuracy: 0.9819 - val_loss: 540.6229 - val_accuracy: 0.9795\n",
      "Epoch 231/300\n",
      "141/141 [==============================] - 1s 4ms/step - loss: 550.1650 - accuracy: 0.9837 - val_loss: 540.6179 - val_accuracy: 0.9781\n",
      "Epoch 232/300\n",
      "141/141 [==============================] - 1s 4ms/step - loss: 550.1721 - accuracy: 0.9817 - val_loss: 540.6306 - val_accuracy: 0.9795\n",
      "Epoch 233/300\n",
      "141/141 [==============================] - 1s 4ms/step - loss: 550.1648 - accuracy: 0.9830 - val_loss: 540.6152 - val_accuracy: 0.9747\n",
      "Epoch 234/300\n",
      "141/141 [==============================] - 1s 4ms/step - loss: 550.1616 - accuracy: 0.9816 - val_loss: 540.6154 - val_accuracy: 0.9745\n",
      "Epoch 235/300\n",
      "141/141 [==============================] - 1s 4ms/step - loss: 550.1691 - accuracy: 0.9793 - val_loss: 540.6511 - val_accuracy: 0.9784\n",
      "Epoch 236/300\n",
      "141/141 [==============================] - 1s 4ms/step - loss: 550.1710 - accuracy: 0.9792 - val_loss: 540.6184 - val_accuracy: 0.9770\n",
      "Epoch 237/300\n",
      "141/141 [==============================] - 0s 3ms/step - loss: 550.1722 - accuracy: 0.9851 - val_loss: 540.6289 - val_accuracy: 0.9725\n",
      "Epoch 238/300\n",
      "141/141 [==============================] - 0s 3ms/step - loss: 550.1663 - accuracy: 0.9783 - val_loss: 540.6133 - val_accuracy: 0.9792\n",
      "Epoch 239/300\n",
      "141/141 [==============================] - 0s 3ms/step - loss: 550.1569 - accuracy: 0.9815 - val_loss: 540.6103 - val_accuracy: 0.9790\n",
      "Epoch 240/300\n",
      "141/141 [==============================] - 0s 3ms/step - loss: 550.1623 - accuracy: 0.9822 - val_loss: 540.6132 - val_accuracy: 0.9691\n",
      "Epoch 241/300\n",
      "141/141 [==============================] - 0s 3ms/step - loss: 550.1618 - accuracy: 0.9803 - val_loss: 540.6174 - val_accuracy: 0.9778\n",
      "Epoch 242/300\n",
      "141/141 [==============================] - 0s 3ms/step - loss: 550.1592 - accuracy: 0.9795 - val_loss: 540.6476 - val_accuracy: 0.9781\n",
      "Epoch 243/300\n",
      "141/141 [==============================] - 0s 3ms/step - loss: 550.2061 - accuracy: 0.9702 - val_loss: 540.6126 - val_accuracy: 0.9689\n",
      "Epoch 244/300\n",
      "141/141 [==============================] - 1s 4ms/step - loss: 550.1584 - accuracy: 0.9824 - val_loss: 540.6174 - val_accuracy: 0.9778\n",
      "Epoch 245/300\n",
      "141/141 [==============================] - 1s 4ms/step - loss: 550.1557 - accuracy: 0.9815 - val_loss: 540.6119 - val_accuracy: 0.9784\n",
      "Epoch 246/300\n",
      "141/141 [==============================] - 1s 4ms/step - loss: 550.1625 - accuracy: 0.9794 - val_loss: 540.6275 - val_accuracy: 0.9776\n",
      "Epoch 247/300\n",
      "141/141 [==============================] - 1s 4ms/step - loss: 550.1538 - accuracy: 0.9807 - val_loss: 540.5997 - val_accuracy: 0.9770\n",
      "Epoch 248/300\n",
      "141/141 [==============================] - 1s 4ms/step - loss: 550.1482 - accuracy: 0.9820 - val_loss: 540.6147 - val_accuracy: 0.9792\n",
      "Epoch 249/300\n",
      "141/141 [==============================] - 1s 4ms/step - loss: 550.1494 - accuracy: 0.9818 - val_loss: 540.5967 - val_accuracy: 0.9776\n",
      "Epoch 250/300\n",
      "141/141 [==============================] - 0s 3ms/step - loss: 550.1480 - accuracy: 0.9834 - val_loss: 540.5963 - val_accuracy: 0.9792\n",
      "Epoch 251/300\n",
      "141/141 [==============================] - 0s 3ms/step - loss: 550.1399 - accuracy: 0.9830 - val_loss: 540.5886 - val_accuracy: 0.9776\n",
      "Epoch 252/300\n",
      "141/141 [==============================] - 0s 3ms/step - loss: 550.1372 - accuracy: 0.9835 - val_loss: 540.5931 - val_accuracy: 0.9809\n",
      "Epoch 253/300\n",
      "141/141 [==============================] - 0s 3ms/step - loss: 550.1446 - accuracy: 0.9832 - val_loss: 540.5976 - val_accuracy: 0.9795\n",
      "Epoch 254/300\n",
      "141/141 [==============================] - 0s 3ms/step - loss: 550.1454 - accuracy: 0.9822 - val_loss: 540.5902 - val_accuracy: 0.9778\n",
      "Epoch 255/300\n",
      "141/141 [==============================] - 0s 3ms/step - loss: 550.1414 - accuracy: 0.9840 - val_loss: 540.5869 - val_accuracy: 0.9815\n",
      "Epoch 256/300\n",
      "141/141 [==============================] - 1s 4ms/step - loss: 550.1355 - accuracy: 0.9840 - val_loss: 540.5734 - val_accuracy: 0.9818\n",
      "Epoch 257/300\n",
      "141/141 [==============================] - 1s 4ms/step - loss: 550.1311 - accuracy: 0.9840 - val_loss: 540.5834 - val_accuracy: 0.9792\n",
      "Epoch 258/300\n",
      "141/141 [==============================] - 0s 3ms/step - loss: 550.1278 - accuracy: 0.9823 - val_loss: 540.5812 - val_accuracy: 0.9790\n",
      "Epoch 259/300\n",
      "141/141 [==============================] - 0s 3ms/step - loss: 550.1331 - accuracy: 0.9834 - val_loss: 540.5690 - val_accuracy: 0.9804\n",
      "Epoch 260/300\n",
      "141/141 [==============================] - 0s 4ms/step - loss: 550.1218 - accuracy: 0.9842 - val_loss: 540.5791 - val_accuracy: 0.9832\n",
      "Epoch 261/300\n",
      "141/141 [==============================] - 0s 4ms/step - loss: 550.1214 - accuracy: 0.9841 - val_loss: 540.5779 - val_accuracy: 0.9790\n",
      "Epoch 262/300\n",
      "141/141 [==============================] - 1s 4ms/step - loss: 550.1294 - accuracy: 0.9832 - val_loss: 540.5721 - val_accuracy: 0.9792\n",
      "Epoch 263/300\n",
      "141/141 [==============================] - 1s 4ms/step - loss: 550.1249 - accuracy: 0.9837 - val_loss: 540.5683 - val_accuracy: 0.9804\n",
      "Epoch 264/300\n",
      "141/141 [==============================] - 1s 4ms/step - loss: 550.1172 - accuracy: 0.9844 - val_loss: 540.5722 - val_accuracy: 0.9809\n",
      "Epoch 265/300\n",
      "141/141 [==============================] - 0s 3ms/step - loss: 550.1176 - accuracy: 0.9838 - val_loss: 540.5671 - val_accuracy: 0.9806\n",
      "Epoch 266/300\n",
      "141/141 [==============================] - 0s 4ms/step - loss: 550.1126 - accuracy: 0.9840 - val_loss: 540.5685 - val_accuracy: 0.9776\n",
      "Epoch 267/300\n",
      "141/141 [==============================] - 1s 4ms/step - loss: 550.1145 - accuracy: 0.9830 - val_loss: 540.5782 - val_accuracy: 0.9815\n",
      "Epoch 268/300\n",
      "141/141 [==============================] - 1s 4ms/step - loss: 550.1107 - accuracy: 0.9856 - val_loss: 540.5619 - val_accuracy: 0.9806\n",
      "Epoch 269/300\n",
      "141/141 [==============================] - 1s 4ms/step - loss: 550.1083 - accuracy: 0.9846 - val_loss: 540.5602 - val_accuracy: 0.9832\n",
      "Epoch 270/300\n",
      "141/141 [==============================] - 1s 4ms/step - loss: 550.1072 - accuracy: 0.9855 - val_loss: 540.5570 - val_accuracy: 0.9809\n",
      "Epoch 271/300\n",
      "141/141 [==============================] - 1s 4ms/step - loss: 550.1025 - accuracy: 0.9842 - val_loss: 540.5551 - val_accuracy: 0.9792\n",
      "Epoch 272/300\n",
      "141/141 [==============================] - 1s 4ms/step - loss: 550.1031 - accuracy: 0.9835 - val_loss: 540.5553 - val_accuracy: 0.9801\n",
      "Epoch 273/300\n",
      "141/141 [==============================] - 1s 4ms/step - loss: 550.1071 - accuracy: 0.9852 - val_loss: 540.5549 - val_accuracy: 0.9812\n",
      "Epoch 274/300\n",
      "141/141 [==============================] - 1s 4ms/step - loss: 550.1062 - accuracy: 0.9854 - val_loss: 540.5633 - val_accuracy: 0.9804\n",
      "Epoch 275/300\n",
      "141/141 [==============================] - 1s 4ms/step - loss: 550.1107 - accuracy: 0.9863 - val_loss: 540.5703 - val_accuracy: 0.9812\n",
      "Epoch 276/300\n"
     ]
    },
    {
     "name": "stdout",
     "output_type": "stream",
     "text": [
      "141/141 [==============================] - 1s 4ms/step - loss: 550.1155 - accuracy: 0.9863 - val_loss: 540.5565 - val_accuracy: 0.9832\n",
      "Epoch 277/300\n",
      "141/141 [==============================] - 1s 4ms/step - loss: 550.1011 - accuracy: 0.9850 - val_loss: 540.5564 - val_accuracy: 0.9781\n",
      "Epoch 278/300\n",
      "141/141 [==============================] - 1s 4ms/step - loss: 550.1032 - accuracy: 0.9844 - val_loss: 540.5550 - val_accuracy: 0.9818\n",
      "Epoch 279/300\n",
      "141/141 [==============================] - 1s 4ms/step - loss: 550.1022 - accuracy: 0.9855 - val_loss: 540.5480 - val_accuracy: 0.9812\n",
      "Epoch 280/300\n",
      "141/141 [==============================] - 1s 4ms/step - loss: 550.1098 - accuracy: 0.9843 - val_loss: 540.5527 - val_accuracy: 0.9809\n",
      "Epoch 281/300\n",
      "141/141 [==============================] - 1s 4ms/step - loss: 550.1011 - accuracy: 0.9842 - val_loss: 540.5494 - val_accuracy: 0.9804\n",
      "Epoch 282/300\n",
      "141/141 [==============================] - 1s 4ms/step - loss: 550.0977 - accuracy: 0.9845 - val_loss: 540.5453 - val_accuracy: 0.9815\n",
      "Epoch 283/300\n",
      "141/141 [==============================] - 1s 4ms/step - loss: 550.0929 - accuracy: 0.9857 - val_loss: 540.5498 - val_accuracy: 0.9815\n",
      "Epoch 284/300\n",
      "141/141 [==============================] - 1s 4ms/step - loss: 550.0927 - accuracy: 0.9847 - val_loss: 540.5532 - val_accuracy: 0.9806\n",
      "Epoch 285/300\n",
      "141/141 [==============================] - 1s 4ms/step - loss: 550.0979 - accuracy: 0.9845 - val_loss: 540.5451 - val_accuracy: 0.9776\n",
      "Epoch 286/300\n",
      "141/141 [==============================] - 1s 4ms/step - loss: 550.0932 - accuracy: 0.9845 - val_loss: 540.5437 - val_accuracy: 0.9778\n",
      "Epoch 287/300\n",
      "141/141 [==============================] - 1s 4ms/step - loss: 550.0984 - accuracy: 0.9845 - val_loss: 540.5471 - val_accuracy: 0.9795\n",
      "Epoch 288/300\n",
      "141/141 [==============================] - 1s 4ms/step - loss: 550.1063 - accuracy: 0.9866 - val_loss: 540.5743 - val_accuracy: 0.9823\n",
      "Epoch 289/300\n",
      "141/141 [==============================] - 0s 3ms/step - loss: 550.1195 - accuracy: 0.9777 - val_loss: 540.5617 - val_accuracy: 0.9801\n",
      "Epoch 290/300\n",
      "141/141 [==============================] - 0s 3ms/step - loss: 550.0952 - accuracy: 0.9835 - val_loss: 540.5562 - val_accuracy: 0.9801\n",
      "Epoch 291/300\n",
      "141/141 [==============================] - 1s 4ms/step - loss: 550.1066 - accuracy: 0.9855 - val_loss: 540.5788 - val_accuracy: 0.9753\n",
      "Epoch 292/300\n",
      "141/141 [==============================] - 0s 4ms/step - loss: 550.1122 - accuracy: 0.9859 - val_loss: 540.5577 - val_accuracy: 0.9834\n",
      "Epoch 293/300\n",
      "141/141 [==============================] - 0s 3ms/step - loss: 550.0976 - accuracy: 0.9841 - val_loss: 540.5449 - val_accuracy: 0.9747\n",
      "Epoch 294/300\n",
      "141/141 [==============================] - 0s 3ms/step - loss: 550.0938 - accuracy: 0.9803 - val_loss: 540.5327 - val_accuracy: 0.9798\n",
      "Epoch 295/300\n",
      "141/141 [==============================] - 0s 3ms/step - loss: 550.0796 - accuracy: 0.9791 - val_loss: 540.5322 - val_accuracy: 0.9812\n",
      "Epoch 296/300\n",
      "141/141 [==============================] - 0s 3ms/step - loss: 550.0818 - accuracy: 0.9818 - val_loss: 540.5311 - val_accuracy: 0.9798\n",
      "Epoch 297/300\n",
      "141/141 [==============================] - 0s 3ms/step - loss: 550.0845 - accuracy: 0.9846 - val_loss: 540.5570 - val_accuracy: 0.9750\n",
      "Epoch 298/300\n",
      "141/141 [==============================] - 1s 4ms/step - loss: 550.1845 - accuracy: 0.9605 - val_loss: 540.6828 - val_accuracy: 0.9624\n",
      "Epoch 299/300\n",
      "141/141 [==============================] - 0s 3ms/step - loss: 550.2101 - accuracy: 0.9718 - val_loss: 540.5565 - val_accuracy: 0.9798\n",
      "Epoch 300/300\n",
      "141/141 [==============================] - 0s 3ms/step - loss: 550.0987 - accuracy: 0.9765 - val_loss: 540.5786 - val_accuracy: 0.9770\n"
     ]
    }
   ],
   "source": [
    "from keras.layers import TimeDistributed\n",
    "from keras.layers import InputLayer\n",
    "from keras.layers import Reshape\n",
    "from keras.layers import *\n",
    "from keras.models import *\n",
    "from keras.utils import *\n",
    "\n",
    "model = Sequential() # Sequeatial Model \n",
    "model.add(LSTM(32,return_sequences=True, input_shape=(num_sequence,num_feature)))  \n",
    "model.add(Dense(3, activation='softmax')) # 3개의 예측\n",
    "model.compile(loss='categorical_crossentropy', optimizer='adam', metrics=['accuracy']) \n",
    "\n",
    "history = model.fit(trainX, trainY, epochs=300, batch_size=20, validation_split=0.2, verbose=1)"
   ]
  },
  {
   "cell_type": "code",
   "execution_count": 19,
   "metadata": {},
   "outputs": [
    {
     "name": "stdout",
     "output_type": "stream",
     "text": [
      "76/76 [==============================] - 0s 1ms/step\n",
      "정확도:  [549.8884309467517, 0.9716905951499939]\n",
      "y:  [[[383.         461.           0.        ]\n",
      "  [383.         461.           0.        ]\n",
      "  [383.         461.           0.        ]\n",
      "  ...\n",
      "  [414.         396.           0.        ]\n",
      "  [414.         396.           4.24264069]\n",
      "  [417.         393.           0.        ]]\n",
      "\n",
      " [[511.         314.           0.        ]\n",
      "  [511.         314.           0.        ]\n",
      "  [511.         314.           0.        ]\n",
      "  ...\n",
      "  [531.         443.           0.        ]\n",
      "  [531.         443.           1.41421356]\n",
      "  [532.         444.           0.        ]]\n",
      "\n",
      " [[534.         456.           0.        ]\n",
      "  [534.         456.           0.        ]\n",
      "  [534.         456.           0.        ]\n",
      "  ...\n",
      "  [424.         532.           0.        ]\n",
      "  [424.         532.           0.        ]\n",
      "  [424.         532.           2.82842712]]\n",
      "\n",
      " ...\n",
      "\n",
      " [[514.         637.           0.        ]\n",
      "  [514.         637.           0.        ]\n",
      "  [514.         637.           0.        ]\n",
      "  ...\n",
      "  [523.         517.           0.        ]\n",
      "  [523.         517.           0.        ]\n",
      "  [523.         517.           0.        ]]\n",
      "\n",
      " [[526.         508.           0.        ]\n",
      "  [526.         508.           0.        ]\n",
      "  [526.         508.           1.        ]\n",
      "  ...\n",
      "  [503.         373.           0.        ]\n",
      "  [503.         373.           6.32455532]\n",
      "  [501.         367.           0.        ]]\n",
      "\n",
      " [[405.         275.           0.        ]\n",
      "  [405.         275.           0.        ]\n",
      "  [405.         275.           0.        ]\n",
      "  ...\n",
      "  [206.         422.           0.        ]\n",
      "  [206.         422.           0.        ]\n",
      "  [206.         422.           0.        ]]] , predict:  [0.6028412  0.3918589  0.00529995 ... 0.32775775 0.66978896 0.00245328]\n"
     ]
    }
   ],
   "source": [
    "print(\"정확도: \",(model.evaluate(testX, testY)))\n",
    "\n",
    "trainPredict = model.predict(trainX)\n",
    "testPredict = model.predict(testX)\n",
    "print('y: ',testY,', predict: ',model.predict(trainX).flatten())"
   ]
  },
  {
   "cell_type": "code",
   "execution_count": 20,
   "metadata": {},
   "outputs": [
    {
     "data": {
      "image/png": "[encoded data removed]",
      "text/plain": [
       "<Figure size 432x288 with 1 Axes>"
      ]
     },
     "metadata": {
      "needs_background": "light"
     },
     "output_type": "display_data"
    }
   ],
   "source": [
    "epochs = range(1, len(history.history['accuracy']) + 1)\n",
    "\n",
    "plt.plot(epochs, history.history['loss'])\n",
    "plt.plot(epochs, history.history['val_loss'])\n",
    "plt.title('model loss')\n",
    "plt.ylabel('loss')\n",
    "plt.xlabel('epoch')\n",
    "plt.legend(['train', 'val'], loc='upper left')\n",
    "plt.show()"
   ]
  },
  {
   "cell_type": "code",
   "execution_count": 56,
   "metadata": {},
   "outputs": [],
   "source": [
    "train_size2 = int(len(x_data) * 0.70) #학습 데이터 70%\n",
    "test_size2 = len(x_data) - train_size2 #테스트 데이터 30%\n",
    "train2, test2 = x_data[0:train_size2], x_data[train_size2:len(x_data)]"
   ]
  },
  {
   "cell_type": "code",
   "execution_count": 57,
   "metadata": {},
   "outputs": [
    {
     "data": {
      "text/plain": [
       "array([180, 180, 180, 180, 180, 180, 180, 180, 180, 180, 180, 180, 181,\n",
       "       181, 183, 183, 183, 185, 185, 187, 187, 190, 190, 194, 194, 197,\n",
       "       197, 201, 201, 204, 204, 206, 206, 206, 209, 209, 213, 213, 215,\n",
       "       215, 218, 218, 219, 219, 222, 222, 223, 223, 223, 224, 224, 226,\n",
       "       226, 229, 229, 229, 229, 229, 229, 229, 229, 229, 229, 229, 229,\n",
       "       229, 229, 229, 229, 229, 229, 229, 229, 229, 229, 229, 229, 229,\n",
       "       229, 229, 229, 229, 229, 229, 229, 228, 228, 228, 226, 226, 223,\n",
       "       223, 221, 221, 219, 219, 219, 218, 218, 215], dtype=int64)"
      ]
     },
     "execution_count": 57,
     "metadata": {},
     "output_type": "execute_result"
    }
   ],
   "source": [
    "x_data"
   ]
  },
  {
   "cell_type": "code",
   "execution_count": 58,
   "metadata": {},
   "outputs": [
    {
     "data": {
      "text/plain": [
       "array([180, 180, 180, 180, 180, 180, 180, 180, 180, 180, 180, 180, 181,\n",
       "       181, 183, 183, 183, 185, 185, 187, 187, 190, 190, 194, 194, 197,\n",
       "       197, 201, 201, 204, 204, 206, 206, 206, 209, 209, 213, 213, 215,\n",
       "       215, 218, 218, 219, 219, 222, 222, 223, 223, 223, 224, 224, 226,\n",
       "       226, 229, 229, 229, 229, 229, 229, 229, 229, 229, 229, 229, 229,\n",
       "       229, 229, 229, 229, 229], dtype=int64)"
      ]
     },
     "execution_count": 58,
     "metadata": {},
     "output_type": "execute_result"
    }
   ],
   "source": [
    "train2"
   ]
  },
  {
   "cell_type": "code",
   "execution_count": 60,
   "metadata": {},
   "outputs": [
    {
     "data": {
      "text/plain": [
       "array([229, 229, 229, 229, 229, 229, 229, 229, 229, 229, 229, 229, 229,\n",
       "       229, 229, 228, 228, 228, 226, 226, 223, 223, 221, 221, 219, 219,\n",
       "       219, 218, 218, 215], dtype=int64)"
      ]
     },
     "execution_count": 60,
     "metadata": {},
     "output_type": "execute_result"
    }
   ],
   "source": [
    "test2"
   ]
  },
  {
   "cell_type": "code",
   "execution_count": 61,
   "metadata": {},
   "outputs": [
    {
     "data": {
      "text/plain": [
       "array([545, 545, 545, 545, 545, 545, 545, 545, 545, 545, 546, 546, 546,\n",
       "       546, 546, 546, 546, 546, 546, 544, 544, 542, 542, 540, 540, 537,\n",
       "       537, 535, 535, 533, 533, 531, 531, 531, 528, 528, 523, 523, 519,\n",
       "       519, 515, 515, 511, 511, 505, 505, 498, 498, 498, 491, 491, 486,\n",
       "       486, 480, 480, 480, 475, 475, 468, 460, 460, 451, 451, 443, 443,\n",
       "       443, 433, 421, 421, 421, 409, 409, 409, 398, 398, 386, 386, 386,\n",
       "       373, 360, 360, 348, 348, 336, 336, 324, 324, 324, 314, 314, 304,\n",
       "       304, 295, 295, 285, 285, 285, 276, 276, 267], dtype=int64)"
      ]
     },
     "execution_count": 61,
     "metadata": {},
     "output_type": "execute_result"
    }
   ],
   "source": [
    "y_data"
   ]
  },
  {
   "cell_type": "code",
   "execution_count": 62,
   "metadata": {},
   "outputs": [],
   "source": [
    "train_size3 = int(len(y_data) * 0.70) #학습 데이터 70%\n",
    "test_size3 = len(y_data) - train_size3 #테스트 데이터 30%\n",
    "train3, test3 = y_data[0:train_size3], y_data[train_size3:len(y_data)]"
   ]
  },
  {
   "cell_type": "code",
   "execution_count": 63,
   "metadata": {},
   "outputs": [
    {
     "data": {
      "text/plain": [
       "array([545, 545, 545, 545, 545, 545, 545, 545, 545, 545, 546, 546, 546,\n",
       "       546, 546, 546, 546, 546, 546, 544, 544, 542, 542, 540, 540, 537,\n",
       "       537, 535, 535, 533, 533, 531, 531, 531, 528, 528, 523, 523, 519,\n",
       "       519, 515, 515, 511, 511, 505, 505, 498, 498, 498, 491, 491, 486,\n",
       "       486, 480, 480, 480, 475, 475, 468, 460, 460, 451, 451, 443, 443,\n",
       "       443, 433, 421, 421, 421], dtype=int64)"
      ]
     },
     "execution_count": 63,
     "metadata": {},
     "output_type": "execute_result"
    }
   ],
   "source": [
    "train3"
   ]
  },
  {
   "cell_type": "code",
   "execution_count": 64,
   "metadata": {},
   "outputs": [
    {
     "data": {
      "text/plain": [
       "array([409, 409, 409, 398, 398, 386, 386, 386, 373, 360, 360, 348, 348,\n",
       "       336, 336, 324, 324, 324, 314, 314, 304, 304, 295, 295, 285, 285,\n",
       "       285, 276, 276, 267], dtype=int64)"
      ]
     },
     "execution_count": 64,
     "metadata": {},
     "output_type": "execute_result"
    }
   ],
   "source": [
    "test3"
   ]
  },
  {
   "cell_type": "code",
   "execution_count": 31,
   "metadata": {},
   "outputs": [
    {
     "name": "stdout",
     "output_type": "stream",
     "text": [
      "(76, 99, 3)\n"
     ]
    }
   ],
   "source": [
    "#trainY -> (x,y)\n",
    "Yx_train_plt=((x_data) * 0.70)\n",
    "Yx_train_plt=np.array(Yx_train_plt)\n",
    "\n",
    "Yy_train_plt=((y_data) * 0.70)\n",
    "Yy_train_plt=np.array(Yy_train_plt)\n",
    "\n",
    "#testX -> (x,y)\n",
    "print(testPredict.shape)\n",
    "\n",
    "Xx_test_plt=[]\n",
    "Xy_test_plt=[]\n",
    "\n",
    "for i in range(76):\n",
    "    for j in range(99):\n",
    "        Xx_test_plt.append(testPredict[i,j,0])\n",
    "        Xy_test_plt.append(testPredict[i,j,1])\n",
    "        \n",
    "        j = j + 1\n",
    "    i = i + 1"
   ]
  },
  {
   "cell_type": "code",
   "execution_count": 51,
   "metadata": {},
   "outputs": [
    {
     "data": {
      "text/plain": [
       "array([126. , 126. , 126. , 126. , 126. , 126. , 126. , 126. , 126. ,\n",
       "       126. , 126. , 126. , 126.7, 126.7, 128.1, 128.1, 128.1, 129.5,\n",
       "       129.5, 130.9, 130.9, 133. , 133. , 135.8, 135.8, 137.9, 137.9,\n",
       "       140.7, 140.7, 142.8, 142.8, 144.2, 144.2, 144.2, 146.3, 146.3,\n",
       "       149.1, 149.1, 150.5, 150.5, 152.6, 152.6, 153.3, 153.3, 155.4,\n",
       "       155.4, 156.1, 156.1, 156.1, 156.8, 156.8, 158.2, 158.2, 160.3,\n",
       "       160.3, 160.3, 160.3, 160.3, 160.3, 160.3, 160.3, 160.3, 160.3,\n",
       "       160.3, 160.3, 160.3, 160.3, 160.3, 160.3, 160.3, 160.3, 160.3,\n",
       "       160.3, 160.3, 160.3, 160.3, 160.3, 160.3, 160.3, 160.3, 160.3,\n",
       "       160.3, 160.3, 160.3, 160.3, 159.6, 159.6, 159.6, 158.2, 158.2,\n",
       "       156.1, 156.1, 154.7, 154.7, 153.3, 153.3, 153.3, 152.6, 152.6,\n",
       "       150.5])"
      ]
     },
     "execution_count": 51,
     "metadata": {},
     "output_type": "execute_result"
    }
   ],
   "source": [
    "Yx_train_plt"
   ]
  },
  {
   "cell_type": "code",
   "execution_count": null,
   "metadata": {},
   "outputs": [],
   "source": []
  },
  {
   "cell_type": "code",
   "execution_count": 65,
   "metadata": {
    "scrolled": true
   },
   "outputs": [
    {
     "data": {
      "image/png": "[encoded data removed]",
      "text/plain": [
       "<Figure size 432x288 with 1 Axes>"
      ]
     },
     "metadata": {
      "needs_background": "light"
     },
     "output_type": "display_data"
    },
    {
     "data": {
      "image/png": "[encoded data removed]",
      "text/plain": [
       "<Figure size 432x288 with 1 Axes>"
      ]
     },
     "metadata": {
      "needs_background": "light"
     },
     "output_type": "display_data"
    }
   ],
   "source": [
    "plt.title('coordinate')\n",
    "plt.ylabel('y')\n",
    "plt.xlabel('x')\n",
    "\n",
    "plt.plot(train2, train3) #trainY -> (x,y) , blue\n",
    "plt.show()\n",
    "\n",
    "plt.plot(test2, test3) #testX -> (x,y)\n",
    "plt.show()"
   ]
  },
  {
   "cell_type": "code",
   "execution_count": 66,
   "metadata": {},
   "outputs": [
    {
     "data": {
      "image/png": "[encoded data removed]",
      "text/plain": [
       "<Figure size 432x288 with 1 Axes>"
      ]
     },
     "metadata": {
      "needs_background": "light"
     },
     "output_type": "display_data"
    },
    {
     "data": {
      "image/png": "[encoded data removed]",
      "text/plain": [
       "<Figure size 432x288 with 1 Axes>"
      ]
     },
     "metadata": {
      "needs_background": "light"
     },
     "output_type": "display_data"
    }
   ],
   "source": [
    "plt.title('coordinate')\n",
    "plt.ylabel('y')\n",
    "plt.xlabel('x')\n",
    "\n",
    "plt.plot(Yx_train_plt,Yy_train_plt) #trainY -> (x,y) , blue\n",
    "plt.show()\n",
    "\n",
    "plt.plot(Xx_test_plt,Xy_test_plt) #testX -> (x,y)\n",
    "plt.show()"
   ]
  },
  {
   "cell_type": "code",
   "execution_count": null,
   "metadata": {},
   "outputs": [],
   "source": []
  }
 ],
 "metadata": {
  "kernelspec": {
   "display_name": "Python 3",
   "language": "python",
   "name": "python3"
  },
  "language_info": {
   "codemirror_mode": {
    "name": "ipython",
    "version": 3
   },
   "file_extension": ".py",
   "mimetype": "text/x-python",
   "name": "python",
   "nbconvert_exporter": "python",
   "pygments_lexer": "ipython3",
   "version": "3.6.10"
  }
 },
 "nbformat": 4,
 "nbformat_minor": 4
}
