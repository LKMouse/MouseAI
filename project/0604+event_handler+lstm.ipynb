{
 "cells": [
  {
   "cell_type": "code",
   "execution_count": 1,
   "metadata": {},
   "outputs": [
    {
     "name": "stderr",
     "output_type": "stream",
     "text": [
      "Using TensorFlow backend.\n"
     ]
    }
   ],
   "source": [
    "from PyQt5.QtWidgets import *\n",
    "from PyQt5.QtCore import *\n",
    "import sys\n",
    "import random\n",
    "import pyautogui\n",
    "from PyQt5 import QtWidgets, uic\n",
    "import time\n",
    "import csv #엑셀파일\n",
    "import os\n",
    "import win32com.client \n",
    "from openpyxl import Workbook\n",
    "import xlwt\n",
    "import math\n",
    "import numpy as np\n",
    "from sklearn.model_selection import train_test_split\n",
    "import pandas as pd\n",
    "import openpyxl \n",
    "import matplotlib.pyplot as plt\n",
    "import keras\n",
    "import icon_rc\n",
    "import webbrowser\n",
    "\n",
    "# LSTM for international airline passengers problem with memory\n",
    "from pandas import read_csv\n",
    "import math\n",
    "from keras.models import Sequential\n",
    "from keras.layers import Dense\n",
    "from keras.layers import LSTM\n",
    "from sklearn.preprocessing import MinMaxScaler\n",
    "from sklearn.metrics import mean_squared_error"
   ]
  },
  {
   "cell_type": "code",
   "execution_count": 2,
   "metadata": {},
   "outputs": [],
   "source": [
    "basic_ui = uic.loadUiType(\"UI_design.ui\")[0]"
   ]
  },
  {
   "cell_type": "code",
   "execution_count": 3,
   "metadata": {},
   "outputs": [
    {
     "ename": "SystemExit",
     "evalue": "0",
     "output_type": "error",
     "traceback": [
      "An exception has occurred, use %tb to see the full traceback.\n",
      "\u001b[1;31mSystemExit\u001b[0m\u001b[1;31m:\u001b[0m 0\n"
     ]
    },
    {
     "name": "stderr",
     "output_type": "stream",
     "text": [
      "C:\\anaconda\\envs\\LKMouse\\lib\\site-packages\\IPython\\core\\interactiveshell.py:3339: UserWarning: To exit: use 'exit', 'quit', or Ctrl-D.\n",
      "  warn(\"To exit: use 'exit', 'quit', or Ctrl-D.\", stacklevel=1)\n"
     ]
    }
   ],
   "source": [
    "#버튼 출력 윈도우창   \n",
    "class WindowClass(QMainWindow, basic_ui):\n",
    "    def __init__(self):\n",
    "        super().__init__()\n",
    "        self.setupUi(self)\n",
    "\n",
    "        self.cnt = 0\n",
    "        \n",
    "        self.x_data=[]\n",
    "        self.y_data=[]\n",
    "        self.speed=[]\n",
    "        self.n = 0\n",
    "\n",
    "        self.kwangwoon_btn.clicked.connect(self.ClickMethod)\n",
    "        self.naver_btn.clicked.connect(self.ClickMethod)\n",
    "        self.google_btn.clicked.connect(self.ClickMethod)\n",
    "        self.youtube_btn.clicked.connect(self.ClickMethod)\n",
    "        #self.excel_btn.clicked.connect(self.createCsv)\n",
    "\n",
    "        self.show()\n",
    "        \n",
    "        qr = self.frameGeometry()\n",
    "        cp = QDesktopWidget().availableGeometry().center()\n",
    "        qr.moveCenter(cp)\n",
    "        self.move(qr.topLeft())\n",
    "    \n",
    "    def ClickMethod(self):        \n",
    "\n",
    "            # 안쪽 리스트로 사용할 빈 리스트 생성\n",
    "            line_x = []\n",
    "            line_y = []\n",
    "            line_speed=[]\n",
    "\n",
    "            for j in range(100):\n",
    "                x,y=pyautogui.position()\n",
    "                line_x.append(x)\n",
    "                line_y.append(y)# 안쪽 리스트에 0 추가\n",
    "                time.sleep(0.001)\n",
    "\n",
    "            self.x_data.append(line_x)\n",
    "            self.y_data.append(line_y)\n",
    "            \n",
    "            for i in range(1, len(line_x)):\n",
    "                Speed=((line_x[i]-line_x[i-1])**2) + ((line_y[i]-line_y[i-1])**2)\n",
    "                Speed=math.sqrt(Speed)\n",
    "                line_speed.append(Speed)\n",
    "            self.speed.append(line_speed)\n",
    "            \n",
    "    def mouseMoveEvent(self, e):\n",
    "            txt=\"마우스 위치 x={0}, y={1}\".format(e.x(),e.y())\n",
    "            self.statusbar.showMessage(txt)   \n",
    "            \n",
    "            #lstm 결과좌표 넣기\n",
    "            x_position=int(format(e.x()))  #test용\n",
    "            y_position=int(format(e.y()))  #test용\n",
    "            \n",
    "            n=0  #결과에따라 사이트 이동\n",
    "            while(n==0):\n",
    "                if 0<x_position and x_position<175 :\n",
    "                    if 0<y_position and y_position<160:\n",
    "                        #kwu\n",
    "                        url = 'https://www.kw.ac.kr/ko/'\n",
    "                        webbrowser.open(url)\n",
    "                    if 160<y_position and y_position<320:\n",
    "                        #naver\n",
    "                        url = 'https://www.naver.com/'\n",
    "                        webbrowser.open(url)\n",
    "                if 175<x_position and x_position<350:\n",
    "                    if 0<y_position and y_position<160:\n",
    "                        #google\n",
    "                        url = 'https://www.google.co.kr/'\n",
    "                        webbrowser.open(url)\n",
    "                    if 160<y_position and y_position<320:\n",
    "                        #youtube\n",
    "                        url = 'https://www.youtube.com/'\n",
    "                        webbrowser.open(url)\n",
    "                n+=1;\n",
    "                \n",
    "                #openUrl(x_position, y_position)                \n",
    "\n",
    "app = QApplication([])\n",
    "ex = WindowClass()\n",
    "sys.exit(app.exec_())"
   ]
  },
  {
   "cell_type": "code",
   "execution_count": 4,
   "metadata": {},
   "outputs": [],
   "source": [
    "# convert an array of values into a dataset matrix\n",
    "def create_dataset(dataset, look_back=1):\n",
    "    dataX, dataY = [],[] \n",
    "    for i in range(len(dataset)-look_back-1):\n",
    "        a = dataset[i:(i+look_back):]\n",
    "        dataX.append(a)\n",
    "        dataY.append(dataset[i:(i + look_back):])\n",
    "    \n",
    "    dataX=np.squeeze(dataX,axis=1) #차원 축소\n",
    "    dataY=np.squeeze(dataY,axis=1) #차원 축소\n",
    "    return np.array(dataX), np.array(dataY)"
   ]
  },
  {
   "cell_type": "code",
   "execution_count": 5,
   "metadata": {},
   "outputs": [
    {
     "name": "stdout",
     "output_type": "stream",
     "text": [
      "(6532, 99, 3)\n"
     ]
    }
   ],
   "source": [
    "# np.random.seed(7) #결과를 재현할 수 있도록 난수 시드 수정\n",
    "data1=pd.read_excel('total_x.xlsx') #x좌표 엑셀 데이터 불러옴 \n",
    "data2=pd.read_excel('total_y.xlsx') #x좌표 엑셀 데이터 불러옴 \n",
    "data3=pd.read_excel('total_speed.xlsx') #x좌표 엑셀 데이터 불러옴 \n",
    "\n",
    "pddata1=pd.DataFrame(data1) \n",
    "pddata1.head()\n",
    "pddata2=pd.DataFrame(data2) \n",
    "pddata2.head()\n",
    "pddata3=pd.DataFrame(data3) \n",
    "pddata3.head()\n",
    "\n",
    "hap=[] #진짜 합\n",
    "for j in range(len(pddata1)):\n",
    "    x_data=np.array(pddata1.loc[j])\n",
    "    y_data=np.array(pddata2.loc[j])\n",
    "    s_data=np.array(pddata3.loc[j])\n",
    "\n",
    "    hap1=[] #[x,y,속력] 데이터를 저장하고 있는 리스트\n",
    "\n",
    "    for i in range(len(s_data)): \n",
    "        sum=[] #리스트 하나당 임시로 x,y,속력을 저장할 리스트 (for문 돌릴때마다 초기화)\n",
    "        sum.append(x_data[i]) #x넣음\n",
    "        sum.append(y_data[i]) #y넣음\n",
    "        sum.append(s_data[i]) #속력넣음\n",
    "        hap1.append(sum) #[x,y,속력] 하나의 리스트를 hap리스트에 넣음  \n",
    "\n",
    "    j = j + 1\n",
    "    \n",
    "    hap.append(hap1)\n",
    "\n",
    "n1 = np.array(hap)\n",
    "print(n1.shape) #6532,99,3 6532개의 샘플과 100개 시계열, 3개 피쳐(x,y,속력)"
   ]
  },
  {
   "cell_type": "code",
   "execution_count": 6,
   "metadata": {},
   "outputs": [],
   "source": [
    "num_sample = n1.shape[0] # 257개 샘플 데이터\n",
    "num_sequence = n1.shape[1] # 99개 시계열 데이터\n",
    "num_feature = n1.shape[2] #3개 피쳐\n",
    "\n",
    "dataset = n1\n",
    "\n",
    "#from sklearn.preprocessing import MinMaxScaler\n",
    "#scaler = MinMaxScaler() #클래스의 인스턴스 생성\n",
    "\n",
    "#시계열 선회하면서 피팅함\n",
    "#for ss in range(num_sequence):\n",
    "#    scaler.partial_fit(n1[:,ss,:])\n",
    "    \n",
    "#Numpy 활용하여 3차원 데이터 스케일링(변환) 0~1 스케일링\n",
    "#results=[]\n",
    "#for ss in range(num_sequence):\n",
    "#    results.append(scaler.transform(n1[:,ss,:]).reshape(num_sample,1,num_feature))\n",
    "#n1_scaled = np.concatenate(results, axis=1)\n",
    "\n",
    "#dataset=  n1_scaled"
   ]
  },
  {
   "cell_type": "code",
   "execution_count": 7,
   "metadata": {},
   "outputs": [],
   "source": [
    "train_size = int(len(dataset) * 0.7) #학습 데이터 67%\n",
    "test_size = len(dataset) - train_size #테스트 데이터 33%\n",
    "train, test = dataset[0:train_size,:], dataset[train_size:len(dataset),:]\n",
    "\n",
    "look_back = 1\n",
    "\n",
    "trainX, trainY = create_dataset(train, look_back)\n",
    "testX, testY = create_dataset(test, look_back)"
   ]
  },
  {
   "cell_type": "code",
   "execution_count": 8,
   "metadata": {},
   "outputs": [
    {
     "name": "stdout",
     "output_type": "stream",
     "text": [
      "Train on 3656 samples, validate on 914 samples\n",
      "Epoch 1/300\n",
      "3656/3656 [==============================] - 35s 10ms/step - loss: 905.7772 - accuracy: 0.9962 - val_loss: 850.4271 - val_accuracy: 1.0000\n",
      "Epoch 2/300\n",
      "3656/3656 [==============================] - 33s 9ms/step - loss: 872.6472 - accuracy: 0.9999 - val_loss: 848.2939 - val_accuracy: 1.0000\n",
      "Epoch 3/300\n",
      "3656/3656 [==============================] - 34s 9ms/step - loss: 870.9056 - accuracy: 1.0000 - val_loss: 847.4486 - val_accuracy: 1.0000\n",
      "Epoch 4/300\n",
      "3656/3656 [==============================] - 34s 9ms/step - loss: 870.4000 - accuracy: 1.0000 - val_loss: 847.2951 - val_accuracy: 1.0000\n",
      "Epoch 5/300\n",
      "3656/3656 [==============================] - 34s 9ms/step - loss: 870.2819 - accuracy: 1.0000 - val_loss: 847.2637 - val_accuracy: 1.0000\n",
      "Epoch 6/300\n",
      "3656/3656 [==============================] - 34s 9ms/step - loss: 870.2350 - accuracy: 1.0000 - val_loss: 847.2458 - val_accuracy: 1.0000\n",
      "Epoch 7/300\n",
      "3656/3656 [==============================] - 33s 9ms/step - loss: 870.1968 - accuracy: 1.0000 - val_loss: 847.2293 - val_accuracy: 1.0000\n",
      "Epoch 8/300\n",
      "3656/3656 [==============================] - 33s 9ms/step - loss: 870.1735 - accuracy: 1.0000 - val_loss: 847.1990 - val_accuracy: 1.0000\n",
      "Epoch 9/300\n",
      "3656/3656 [==============================] - 33s 9ms/step - loss: 870.1158 - accuracy: 1.0000 - val_loss: 847.1894 - val_accuracy: 1.0000\n",
      "Epoch 10/300\n",
      "3656/3656 [==============================] - 33s 9ms/step - loss: 870.0967 - accuracy: 1.0000 - val_loss: 847.1820 - val_accuracy: 1.0000\n",
      "Epoch 11/300\n",
      "3656/3656 [==============================] - 33s 9ms/step - loss: 870.0797 - accuracy: 1.0000 - val_loss: 847.1859 - val_accuracy: 1.0000\n",
      "Model: \"sequential_1\"\n",
      "_________________________________________________________________\n",
      "Layer (type)                 Output Shape              Param #   \n",
      "=================================================================\n",
      "lstm_1 (LSTM)                (None, 99, 64)            17408     \n",
      "_________________________________________________________________\n",
      "dense_1 (Dense)              (None, 99, 3)             195       \n",
      "=================================================================\n",
      "Total params: 17,603\n",
      "Trainable params: 17,603\n",
      "Non-trainable params: 0\n",
      "_________________________________________________________________\n"
     ]
    }
   ],
   "source": [
    "#LSTM 모델 생성\n",
    "\n",
    "from keras.layers import TimeDistributed\n",
    "from keras.layers import InputLayer\n",
    "from keras.layers import Reshape\n",
    "\n",
    "model = Sequential() # Sequeatial Model \n",
    "\n",
    "model.add(LSTM(64,return_sequences=True, input_shape=(num_sequence,num_feature)))  \n",
    "model.add(Dense(3, activation='softmax')) # 3개의 예측\n",
    "model.compile(loss='categorical_crossentropy', optimizer='adam', metrics=['accuracy']) \n",
    "\n",
    "from keras.callbacks import EarlyStopping\n",
    "early_stopping = EarlyStopping()\n",
    "history=model.fit(trainX, trainY, epochs=300, batch_size=10, validation_split=0.2, verbose=1,callbacks=[early_stopping])\n",
    "\n",
    "model.summary()"
   ]
  },
  {
   "cell_type": "code",
   "execution_count": 9,
   "metadata": {},
   "outputs": [
    {
     "data": {
      "image/png": "[encoded data removed]",
      "text/plain": [
       "<Figure size 432x288 with 2 Axes>"
      ]
     },
     "metadata": {
      "needs_background": "light"
     },
     "output_type": "display_data"
    },
    {
     "name": "stdout",
     "output_type": "stream",
     "text": [
      "4570/4570 [==============================] - 5s 999us/step\n",
      "accuracy: 100.00%\n"
     ]
    }
   ],
   "source": [
    "fig, loss_ax = plt.subplots()\n",
    "\n",
    "acc_ax = loss_ax.twinx()\n",
    "\n",
    "loss_ax.plot(history.history['loss'], 'y', label='train loss')\n",
    "loss_ax.plot(history.history['val_loss'], 'r', label='val loss')\n",
    "\n",
    "acc_ax.plot(history.history['accuracy'], 'b', label='train acc')\n",
    "acc_ax.plot(history.history['val_accuracy'], 'g', label='val acc')\n",
    "\n",
    "loss_ax.set_xlabel('epoch')\n",
    "loss_ax.set_ylabel('loss')\n",
    "acc_ax.set_ylabel('accuray')\n",
    "\n",
    "loss_ax.legend(loc='upper left')\n",
    "acc_ax.legend(loc='lower left')\n",
    "\n",
    "plt.show()\n",
    "\n",
    "scores = model.evaluate(trainX, trainY)\n",
    "print(\"%s: %.2f%%\" %(model.metrics_names[1], scores[1]*100))"
   ]
  },
  {
   "cell_type": "code",
   "execution_count": 10,
   "metadata": {},
   "outputs": [
    {
     "ename": "NameError",
     "evalue": "name 'e' is not defined",
     "output_type": "error",
     "traceback": [
      "\u001b[1;31m---------------------------------------------------------------------------\u001b[0m",
      "\u001b[1;31mNameError\u001b[0m                                 Traceback (most recent call last)",
      "\u001b[1;32m<ipython-input-10-4803fad41816>\u001b[0m in \u001b[0;36m<module>\u001b[1;34m\u001b[0m\n\u001b[1;32m----> 1\u001b[1;33m \u001b[0mpredict_e\u001b[0m \u001b[1;33m=\u001b[0m \u001b[0mmodel\u001b[0m\u001b[1;33m.\u001b[0m\u001b[0mpredict\u001b[0m\u001b[1;33m(\u001b[0m\u001b[0mformat\u001b[0m\u001b[1;33m(\u001b[0m\u001b[0me\u001b[0m\u001b[1;33m.\u001b[0m\u001b[0mx\u001b[0m\u001b[1;33m(\u001b[0m\u001b[1;33m)\u001b[0m\u001b[1;33m,\u001b[0m\u001b[0me\u001b[0m\u001b[1;33m.\u001b[0m\u001b[0my\u001b[0m\u001b[1;33m(\u001b[0m\u001b[1;33m)\u001b[0m\u001b[1;33m)\u001b[0m\u001b[1;33m)\u001b[0m\u001b[1;33m\u001b[0m\u001b[1;33m\u001b[0m\u001b[0m\n\u001b[0m\u001b[0;32m      2\u001b[0m \u001b[0mex\u001b[0m\u001b[1;33m.\u001b[0m\u001b[0mmouseMoveEvent\u001b[0m\u001b[1;33m(\u001b[0m\u001b[0mpredict_e\u001b[0m\u001b[1;33m)\u001b[0m\u001b[1;33m\u001b[0m\u001b[1;33m\u001b[0m\u001b[0m\n",
      "\u001b[1;31mNameError\u001b[0m: name 'e' is not defined"
     ]
    }
   ],
   "source": [
    "predict_e = model.predict(format(e.x(),e.y()))\n",
    "ex.mouseMoveEvent(predict_e)"
   ]
  },
  {
   "cell_type": "code",
   "execution_count": null,
   "metadata": {},
   "outputs": [],
   "source": []
  }
 ],
 "metadata": {
  "kernelspec": {
   "display_name": "Python 3",
   "language": "python",
   "name": "python3"
  },
  "language_info": {
   "codemirror_mode": {
    "name": "ipython",
    "version": 3
   },
   "file_extension": ".py",
   "mimetype": "text/x-python",
   "name": "python",
   "nbconvert_exporter": "python",
   "pygments_lexer": "ipython3",
   "version": "3.7.7"
  }
 },
 "nbformat": 4,
 "nbformat_minor": 4
}
