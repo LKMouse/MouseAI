{
 "cells": [
  {
   "cell_type": "code",
   "execution_count": 2,
   "metadata": {},
   "outputs": [
    {
     "name": "stderr",
     "output_type": "stream",
     "text": [
      "Using TensorFlow backend.\n"
     ]
    }
   ],
   "source": [
    "#LSTM 사용하여 버튼 하나의 x좌표 예측\n",
    "\n",
    "import matplotlib.pyplot as plt\n",
    "from pandas import read_csv\n",
    "import math\n",
    "from keras.models import Sequential\n",
    "from keras.layers import Dense\n",
    "from keras.layers import LSTM\n",
    "from sklearn.preprocessing import MinMaxScaler\n",
    "from sklearn.metrics import mean_squared_error\n",
    "import pandas as pd\n",
    "import numpy as np"
   ]
  },
  {
   "cell_type": "code",
   "execution_count": 3,
   "metadata": {
    "scrolled": true
   },
   "outputs": [
    {
     "name": "stdout",
     "output_type": "stream",
     "text": [
      "(257, 99, 3)\n"
     ]
    }
   ],
   "source": [
    "np.random.seed(7) #결과를 재현할 수 있도록 난수 시드 수정\n",
    "data1=pd.read_excel('x_data.xls') #x좌표 엑셀 데이터 불러옴 \n",
    "data2=pd.read_excel('y_data.xls') #x좌표 엑셀 데이터 불러옴 \n",
    "data3=pd.read_excel('speed.xls') #x좌표 엑셀 데이터 불러옴 \n",
    "\n",
    "pddata1=pd.DataFrame(data1) \n",
    "pddata1.head()\n",
    "pddata2=pd.DataFrame(data2) \n",
    "pddata2.head()\n",
    "pddata3=pd.DataFrame(data3) \n",
    "pddata3.head()\n",
    "\n",
    "hap=[] #진짜 합\n",
    "for j in range(len(pddata1)):\n",
    "    x_data=np.array(pddata1.loc[j])\n",
    "    y_data=np.array(pddata2.loc[j])\n",
    "    s_data=np.array(pddata3.loc[j])\n",
    "\n",
    "    hap1=[] #[x,y,속력] 데이터를 저장하고 있는 리스트\n",
    "\n",
    "    for i in range(len(s_data)): \n",
    "        sum=[] #리스트 하나당 임시로 x,y,속력을 저장할 리스트 (for문 돌릴때마다 초기화)\n",
    "        sum.append(x_data[i]) #x넣음\n",
    "        sum.append(y_data[i]) #y넣음\n",
    "        sum.append(s_data[i]) #속력넣음\n",
    "        hap1.append(sum) #[x,y,속력] 하나의 리스트를 hap리스트에 넣음  \n",
    "\n",
    "    j = j + 1\n",
    "    \n",
    "    hap.append(hap1)\n",
    "\n",
    "n1 = np.array(hap)\n",
    "print(n1.shape) #257,99,3 257개의 샘플과 99개 시계열, 3개 피쳐(x,y,속력)\n"
   ]
  },
  {
   "cell_type": "code",
   "execution_count": 4,
   "metadata": {},
   "outputs": [],
   "source": [
    "num_sample = n1.shape[0] # 257개 샘플 데이터\n",
    "num_sequence = n1.shape[1] # 99개 시계열 데이터\n",
    "num_feature = n1.shape[2] #3개 피쳐\n",
    "\n",
    "# from sklearn.preprocessing import MinMaxScaler\n",
    "# scaler = MinMaxScaler() #클래스의 인스턴스 생성\n",
    "\n",
    "\n",
    "# #시계열 선회하면서 피팅함\n",
    "# for ss in range(num_sequence):\n",
    "#     scaler.partial_fit(n1[:,ss,:])\n",
    "    \n",
    "# #Numpy 활용하여 3차원 데이터 스케일링(변환) 0~1 스케일링\n",
    "# results=[]\n",
    "# for ss in range(num_sequence):\n",
    "#     results.append(scaler.transform(n1[:,ss,:]).reshape(num_sample,1,num_feature))\n",
    "# n1_scaled = np.concatenate(results, axis=1)\n",
    "\n",
    "# dataset=  n1_scaled\n",
    "dataset=  n1"
   ]
  },
  {
   "cell_type": "code",
   "execution_count": 5,
   "metadata": {},
   "outputs": [
    {
     "data": {
      "text/plain": [
       "array([[[388.        , 252.        ,   0.        ],\n",
       "        [388.        , 252.        ,   0.        ],\n",
       "        [388.        , 252.        ,   0.        ],\n",
       "        ...,\n",
       "        [224.        , 357.        ,   0.        ],\n",
       "        [224.        , 357.        ,   0.        ],\n",
       "        [224.        , 357.        ,   0.        ]],\n",
       "\n",
       "       [[210.        , 371.        ,   0.        ],\n",
       "        [210.        , 371.        ,   0.        ],\n",
       "        [210.        , 371.        ,   0.        ],\n",
       "        ...,\n",
       "        [335.        , 426.        ,   0.        ],\n",
       "        [335.        , 426.        ,   0.        ],\n",
       "        [335.        , 426.        ,   2.        ]],\n",
       "\n",
       "       [[563.        , 328.        ,   0.        ],\n",
       "        [563.        , 328.        ,   0.        ],\n",
       "        [563.        , 328.        ,   0.        ],\n",
       "        ...,\n",
       "        [407.        , 433.        ,   0.        ],\n",
       "        [407.        , 433.        ,   0.        ],\n",
       "        [407.        , 433.        ,   0.        ]],\n",
       "\n",
       "       ...,\n",
       "\n",
       "       [[405.        , 275.        ,   0.        ],\n",
       "        [405.        , 275.        ,   0.        ],\n",
       "        [405.        , 275.        ,   0.        ],\n",
       "        ...,\n",
       "        [206.        , 422.        ,   0.        ],\n",
       "        [206.        , 422.        ,   0.        ],\n",
       "        [206.        , 422.        ,   0.        ]],\n",
       "\n",
       "       [[201.        , 423.        ,   0.        ],\n",
       "        [201.        , 423.        ,   0.        ],\n",
       "        [201.        , 423.        ,   0.        ],\n",
       "        ...,\n",
       "        [180.        , 501.        ,   2.        ],\n",
       "        [180.        , 503.        ,   0.        ],\n",
       "        [180.        , 503.        ,   0.        ]],\n",
       "\n",
       "       [[180.        , 545.        ,   0.        ],\n",
       "        [180.        , 545.        ,   0.        ],\n",
       "        [180.        , 545.        ,   0.        ],\n",
       "        ...,\n",
       "        [219.        , 285.        ,   9.05538514],\n",
       "        [218.        , 276.        ,   0.        ],\n",
       "        [218.        , 276.        ,   9.48683298]]])"
      ]
     },
     "execution_count": 5,
     "metadata": {},
     "output_type": "execute_result"
    }
   ],
   "source": [
    "dataset"
   ]
  },
  {
   "cell_type": "code",
   "execution_count": 6,
   "metadata": {},
   "outputs": [],
   "source": [
    "train_size = int(len(dataset) * 0.67) #학습 데이터 67%\n",
    "test_size = len(dataset) - train_size #테스트 데이터 33%\n",
    "train, test = dataset[0:train_size,:], dataset[train_size:len(dataset),:]\n",
    "\n",
    "# look_back = 1 #이전 시간 단계 입력변수\n",
    "# #X는 지금 t 값이고, Y는 그 다음의 t+1 값임 (즉, X=t, Y=t+1)\n",
    "# trainX, trainY = create_dataset(train, look_back)\n",
    "# testX, testY = create_dataset(test, look_back)\n",
    "# LSTM 모델은 입력데이터 X에 [samples, time steps, features]형식으로 넣어야함\n",
    "# 현재 데이터는 [samples, features]이므로, numpy.reshape()를 사용하여\n",
    "#준비된 train과 test 입력 데이터를 3차원으로 바꿈\n",
    "# trainX = np.reshape(trainX, (trainX.shape[0], 1, trainX.shape[1]))\n",
    "# testX = np.reshape(testX, (testX.shape[0], 1, testX.shape[1]))\n",
    "\n",
    "\n",
    "\n",
    "# # dataframe=pd.DataFrame(hap)\n",
    "# dataframe=pd.DataFrame(data1) #DataFrame은 2차원 테이블 데이터 구조 자료형\n",
    "\n",
    "# dataset = dataframe.values #데이터 프레임에서 numpy배열 추출\n",
    "\n",
    "# dataset = dataset.astype('float32') #정수값을 부동 소수점 값으로 변환\n",
    "# # LSTM 은 S자형(기본값) 또는 tanh활성화 기능을 사용할 떄 입력 데이터의 스케일에 민감\n",
    "# scaler = MinMaxScaler(feature_range=(0, 1)) #정규화함 (0에서 1까지의 범위로 데이터 크기 조정)\n",
    "# dataset = scaler.fit_transform(dataset.reshape(-1,1))\n",
    "#reshape함수를 사용하여 1차원 데이터를 2차원으로 변경\n",
    "\n",
    "# dataset=  n1_scaled\n",
    "\n",
    "# train_size = int(len(dataset) * 0.67) #학습 데이터 67%\n",
    "# test_size = len(dataset) - train_size #테스트 데이터 33%\n",
    "# train, test = dataset[0:train_size,:], dataset[train_size:len(dataset),:]\n",
    "\n",
    "#두개의 인수, 데이터 세트로 변환하려는 Numpt 배열인 dataset과 다음 시간을 예측하기\n",
    "#위해 입력 변수로 사용할 이전 시간 단계 수인 look_back을 사용. 기본값을 1\n",
    "\n",
    "# look_back = 1 #이전 시간 단계 입력변수\n",
    "# #X는 지금 t 값이고, Y는 그 다음의 t+1 값임 (즉, X=t, Y=t+1)\n",
    "# trainX, trainY = create_dataset(train, look_back)\n",
    "# testX, testY = create_dataset(test, look_back)\n",
    "# # LSTM 모델은 입력데이터 X에 [samples, time steps, features]형식으로 넣어야함\n",
    "# # 현재 데이터는 [samples, features]이므로, numpy.reshape()를 사용하여\n",
    "# #준비된 train과 test 입력 데이터를 3차원으로 바꿈\n",
    "# trainX = np.reshape(trainX, (trainX.shape[0], 1, trainX.shape[1]))\n",
    "# testX = np.reshape(testX, (testX.shape[0], 1, testX.shape[1]))"
   ]
  },
  {
   "cell_type": "code",
   "execution_count": 7,
   "metadata": {},
   "outputs": [
    {
     "data": {
      "text/plain": [
       "array([[[388.        , 252.        ,   0.        ],\n",
       "        [388.        , 252.        ,   0.        ],\n",
       "        [388.        , 252.        ,   0.        ],\n",
       "        ...,\n",
       "        [224.        , 357.        ,   0.        ],\n",
       "        [224.        , 357.        ,   0.        ],\n",
       "        [224.        , 357.        ,   0.        ]],\n",
       "\n",
       "       [[210.        , 371.        ,   0.        ],\n",
       "        [210.        , 371.        ,   0.        ],\n",
       "        [210.        , 371.        ,   0.        ],\n",
       "        ...,\n",
       "        [335.        , 426.        ,   0.        ],\n",
       "        [335.        , 426.        ,   0.        ],\n",
       "        [335.        , 426.        ,   2.        ]],\n",
       "\n",
       "       [[563.        , 328.        ,   0.        ],\n",
       "        [563.        , 328.        ,   0.        ],\n",
       "        [563.        , 328.        ,   0.        ],\n",
       "        ...,\n",
       "        [407.        , 433.        ,   0.        ],\n",
       "        [407.        , 433.        ,   0.        ],\n",
       "        [407.        , 433.        ,   0.        ]],\n",
       "\n",
       "       ...,\n",
       "\n",
       "       [[331.        , 595.        ,   0.        ],\n",
       "        [331.        , 595.        ,   0.        ],\n",
       "        [331.        , 595.        ,   0.        ],\n",
       "        ...,\n",
       "        [240.        , 560.        ,   0.        ],\n",
       "        [240.        , 560.        ,   2.23606798],\n",
       "        [238.        , 559.        ,   0.        ]],\n",
       "\n",
       "       [[236.        , 554.        ,   0.        ],\n",
       "        [236.        , 554.        ,   2.82842712],\n",
       "        [234.        , 552.        ,   0.        ],\n",
       "        ...,\n",
       "        [167.        , 434.        ,   0.        ],\n",
       "        [167.        , 434.        ,   0.        ],\n",
       "        [167.        , 434.        ,   0.        ]],\n",
       "\n",
       "       [[198.        , 386.        ,   0.        ],\n",
       "        [198.        , 386.        ,   0.        ],\n",
       "        [198.        , 386.        ,   0.        ],\n",
       "        ...,\n",
       "        [288.        , 278.        ,   5.83095189],\n",
       "        [293.        , 275.        ,   0.        ],\n",
       "        [293.        , 275.        ,   2.82842712]]])"
      ]
     },
     "execution_count": 7,
     "metadata": {},
     "output_type": "execute_result"
    }
   ],
   "source": [
    "train"
   ]
  },
  {
   "cell_type": "code",
   "execution_count": 8,
   "metadata": {},
   "outputs": [
    {
     "data": {
      "text/plain": [
       "array([[[333.        , 252.        ,   0.        ],\n",
       "        [333.        , 252.        ,   0.        ],\n",
       "        [333.        , 252.        ,   0.        ],\n",
       "        ...,\n",
       "        [496.        , 380.        ,  10.29563014],\n",
       "        [505.        , 385.        ,   0.        ],\n",
       "        [505.        , 385.        ,   8.60232527]],\n",
       "\n",
       "       [[590.        , 481.        ,   0.        ],\n",
       "        [590.        , 481.        ,   0.        ],\n",
       "        [590.        , 481.        ,   0.        ],\n",
       "        ...,\n",
       "        [373.        , 425.        ,   6.32455532],\n",
       "        [367.        , 423.        ,   0.        ],\n",
       "        [367.        , 423.        ,   2.82842712]],\n",
       "\n",
       "       [[361.        , 417.        ,   0.        ],\n",
       "        [361.        , 417.        ,   0.        ],\n",
       "        [361.        , 417.        ,   0.        ],\n",
       "        ...,\n",
       "        [311.        , 368.        ,   0.        ],\n",
       "        [311.        , 368.        ,   9.43398113],\n",
       "        [303.        , 363.        ,   0.        ]],\n",
       "\n",
       "       ...,\n",
       "\n",
       "       [[405.        , 275.        ,   0.        ],\n",
       "        [405.        , 275.        ,   0.        ],\n",
       "        [405.        , 275.        ,   0.        ],\n",
       "        ...,\n",
       "        [206.        , 422.        ,   0.        ],\n",
       "        [206.        , 422.        ,   0.        ],\n",
       "        [206.        , 422.        ,   0.        ]],\n",
       "\n",
       "       [[201.        , 423.        ,   0.        ],\n",
       "        [201.        , 423.        ,   0.        ],\n",
       "        [201.        , 423.        ,   0.        ],\n",
       "        ...,\n",
       "        [180.        , 501.        ,   2.        ],\n",
       "        [180.        , 503.        ,   0.        ],\n",
       "        [180.        , 503.        ,   0.        ]],\n",
       "\n",
       "       [[180.        , 545.        ,   0.        ],\n",
       "        [180.        , 545.        ,   0.        ],\n",
       "        [180.        , 545.        ,   0.        ],\n",
       "        ...,\n",
       "        [219.        , 285.        ,   9.05538514],\n",
       "        [218.        , 276.        ,   0.        ],\n",
       "        [218.        , 276.        ,   9.48683298]]])"
      ]
     },
     "execution_count": 8,
     "metadata": {},
     "output_type": "execute_result"
    }
   ],
   "source": [
    "test"
   ]
  },
  {
   "cell_type": "code",
   "execution_count": 9,
   "metadata": {},
   "outputs": [
    {
     "data": {
      "text/plain": [
       "(172, 99, 3)"
      ]
     },
     "execution_count": 9,
     "metadata": {},
     "output_type": "execute_result"
    }
   ],
   "source": [
    "np.shape(train)"
   ]
  },
  {
   "cell_type": "code",
   "execution_count": 10,
   "metadata": {},
   "outputs": [
    {
     "data": {
      "text/plain": [
       "(85, 99, 3)"
      ]
     },
     "execution_count": 10,
     "metadata": {},
     "output_type": "execute_result"
    }
   ],
   "source": [
    "np.shape(test)"
   ]
  },
  {
   "cell_type": "code",
   "execution_count": 11,
   "metadata": {},
   "outputs": [
    {
     "data": {
      "text/plain": [
       "257"
      ]
     },
     "execution_count": 11,
     "metadata": {},
     "output_type": "execute_result"
    }
   ],
   "source": [
    "len(dataset)"
   ]
  },
  {
   "cell_type": "code",
   "execution_count": 12,
   "metadata": {},
   "outputs": [],
   "source": [
    "#배열을 행렬로 변한\n",
    "def create_dataset(dataset, look_back=1):\n",
    "    dataX, dataY = [],[] \n",
    "    for i in range(len(dataset)-look_back-1):\n",
    "        a = dataset[i:(i+look_back):]\n",
    "        dataX.append(a)\n",
    "        dataY.append(dataset[i:(i + look_back):])\n",
    "    \n",
    "    dataX=np.squeeze(dataX,axis=1) #차원 축소\n",
    "    dataY=np.squeeze(dataY,axis=1) #차원 축소\n",
    "    return np.array(dataX), np.array(dataY)"
   ]
  },
  {
   "cell_type": "code",
   "execution_count": 13,
   "metadata": {},
   "outputs": [],
   "source": [
    "#두개의 인수, 데이터 세트로 변환하려는 Numpy 배열인 dataset과 다음 시간을 예측하기\n",
    "#위해 입력 변수로 사용할 이전 시간 단계 수인 look_back을 사용. 기본값을 1\n",
    "#reshpae()함수를 사용하여 배열의 차원을 변경할 수 있음\n",
    "\n",
    "look_back = 1 #이전 시간 단계 입력변수\n",
    "#X는 지금 t 값이고, Y는 그 다음의 t+1 값임 (즉, X=t, Y=t+1)\n",
    "trainX, trainY = create_dataset(train, look_back)\n",
    "testX, testY = create_dataset(test, look_back)\n",
    "# LSTM 모델은 입력데이터 X에 [samples, time steps, features]형식으로 넣어야함\n",
    "# 현재 데이터는 [samples, features]이므로, numpy.reshape()를 사용하여\n",
    "#준비된 train과 test 입력 데이터를 3차원으로 바꿈\n",
    "# trainX = np.reshape(trainX.shape[0], trainX.shape[1], trainX.shape[2])\n",
    "# testX = np.reshape(testX.shape[0], testX.shape[1], testX.shape[2])"
   ]
  },
  {
   "cell_type": "code",
   "execution_count": 14,
   "metadata": {},
   "outputs": [
    {
     "data": {
      "text/plain": [
       "(170, 99, 3)"
      ]
     },
     "execution_count": 14,
     "metadata": {},
     "output_type": "execute_result"
    }
   ],
   "source": [
    "np.shape(trainX)"
   ]
  },
  {
   "cell_type": "code",
   "execution_count": 15,
   "metadata": {},
   "outputs": [
    {
     "data": {
      "text/plain": [
       "(83, 99, 3)"
      ]
     },
     "execution_count": 15,
     "metadata": {},
     "output_type": "execute_result"
    }
   ],
   "source": [
    "np.shape(testX)"
   ]
  },
  {
   "cell_type": "code",
   "execution_count": 16,
   "metadata": {},
   "outputs": [
    {
     "data": {
      "text/plain": [
       "array([[[388.        , 252.        ,   0.        ],\n",
       "        [388.        , 252.        ,   0.        ],\n",
       "        [388.        , 252.        ,   0.        ],\n",
       "        ...,\n",
       "        [224.        , 357.        ,   0.        ],\n",
       "        [224.        , 357.        ,   0.        ],\n",
       "        [224.        , 357.        ,   0.        ]],\n",
       "\n",
       "       [[210.        , 371.        ,   0.        ],\n",
       "        [210.        , 371.        ,   0.        ],\n",
       "        [210.        , 371.        ,   0.        ],\n",
       "        ...,\n",
       "        [335.        , 426.        ,   0.        ],\n",
       "        [335.        , 426.        ,   0.        ],\n",
       "        [335.        , 426.        ,   2.        ]],\n",
       "\n",
       "       [[563.        , 328.        ,   0.        ],\n",
       "        [563.        , 328.        ,   0.        ],\n",
       "        [563.        , 328.        ,   0.        ],\n",
       "        ...,\n",
       "        [407.        , 433.        ,   0.        ],\n",
       "        [407.        , 433.        ,   0.        ],\n",
       "        [407.        , 433.        ,   0.        ]],\n",
       "\n",
       "       ...,\n",
       "\n",
       "       [[331.        , 595.        ,   0.        ],\n",
       "        [331.        , 595.        ,   0.        ],\n",
       "        [331.        , 595.        ,   0.        ],\n",
       "        ...,\n",
       "        [240.        , 560.        ,   0.        ],\n",
       "        [240.        , 560.        ,   2.23606798],\n",
       "        [238.        , 559.        ,   0.        ]],\n",
       "\n",
       "       [[236.        , 554.        ,   0.        ],\n",
       "        [236.        , 554.        ,   2.82842712],\n",
       "        [234.        , 552.        ,   0.        ],\n",
       "        ...,\n",
       "        [167.        , 434.        ,   0.        ],\n",
       "        [167.        , 434.        ,   0.        ],\n",
       "        [167.        , 434.        ,   0.        ]],\n",
       "\n",
       "       [[198.        , 386.        ,   0.        ],\n",
       "        [198.        , 386.        ,   0.        ],\n",
       "        [198.        , 386.        ,   0.        ],\n",
       "        ...,\n",
       "        [288.        , 278.        ,   5.83095189],\n",
       "        [293.        , 275.        ,   0.        ],\n",
       "        [293.        , 275.        ,   2.82842712]]])"
      ]
     },
     "execution_count": 16,
     "metadata": {},
     "output_type": "execute_result"
    }
   ],
   "source": [
    "train"
   ]
  },
  {
   "cell_type": "code",
   "execution_count": 17,
   "metadata": {},
   "outputs": [
    {
     "data": {
      "text/plain": [
       "array([[[388.        , 252.        ,   0.        ],\n",
       "        [388.        , 252.        ,   0.        ],\n",
       "        [388.        , 252.        ,   0.        ],\n",
       "        ...,\n",
       "        [224.        , 357.        ,   0.        ],\n",
       "        [224.        , 357.        ,   0.        ],\n",
       "        [224.        , 357.        ,   0.        ]],\n",
       "\n",
       "       [[210.        , 371.        ,   0.        ],\n",
       "        [210.        , 371.        ,   0.        ],\n",
       "        [210.        , 371.        ,   0.        ],\n",
       "        ...,\n",
       "        [335.        , 426.        ,   0.        ],\n",
       "        [335.        , 426.        ,   0.        ],\n",
       "        [335.        , 426.        ,   2.        ]],\n",
       "\n",
       "       [[563.        , 328.        ,   0.        ],\n",
       "        [563.        , 328.        ,   0.        ],\n",
       "        [563.        , 328.        ,   0.        ],\n",
       "        ...,\n",
       "        [407.        , 433.        ,   0.        ],\n",
       "        [407.        , 433.        ,   0.        ],\n",
       "        [407.        , 433.        ,   0.        ]],\n",
       "\n",
       "       ...,\n",
       "\n",
       "       [[557.        , 320.        ,   0.        ],\n",
       "        [557.        , 320.        ,   0.        ],\n",
       "        [557.        , 320.        ,   0.        ],\n",
       "        ...,\n",
       "        [422.        , 445.        ,   0.        ],\n",
       "        [422.        , 445.        ,   0.        ],\n",
       "        [422.        , 445.        ,   0.        ]],\n",
       "\n",
       "       [[390.        , 463.        ,   0.        ],\n",
       "        [390.        , 463.        ,   0.        ],\n",
       "        [390.        , 463.        ,   0.        ],\n",
       "        ...,\n",
       "        [333.        , 558.        ,   4.12310563],\n",
       "        [332.        , 562.        ,   0.        ],\n",
       "        [332.        , 562.        ,   3.        ]],\n",
       "\n",
       "       [[331.        , 595.        ,   0.        ],\n",
       "        [331.        , 595.        ,   0.        ],\n",
       "        [331.        , 595.        ,   0.        ],\n",
       "        ...,\n",
       "        [240.        , 560.        ,   0.        ],\n",
       "        [240.        , 560.        ,   2.23606798],\n",
       "        [238.        , 559.        ,   0.        ]]])"
      ]
     },
     "execution_count": 17,
     "metadata": {},
     "output_type": "execute_result"
    }
   ],
   "source": [
    "trainY"
   ]
  },
  {
   "cell_type": "code",
   "execution_count": 18,
   "metadata": {},
   "outputs": [
    {
     "name": "stdout",
     "output_type": "stream",
     "text": [
      "Train on 136 samples, validate on 34 samples\n",
      "Epoch 1/5\n",
      "136/136 [==============================] - 1s 9ms/step - loss: 115509.2599 - val_loss: 125629.2344\n",
      "Epoch 2/5\n",
      "136/136 [==============================] - 1s 4ms/step - loss: 115503.4342 - val_loss: 125626.0161\n",
      "Epoch 3/5\n",
      "136/136 [==============================] - 1s 4ms/step - loss: 115494.4143 - val_loss: 125615.1893\n",
      "Epoch 4/5\n",
      "136/136 [==============================] - 1s 4ms/step - loss: 115491.4824 - val_loss: 125617.7151\n",
      "Epoch 5/5\n",
      "136/136 [==============================] - 1s 4ms/step - loss: 115491.2919 - val_loss: 125616.7872\n",
      "Model: \"sequential_1\"\n",
      "_________________________________________________________________\n",
      "Layer (type)                 Output Shape              Param #   \n",
      "=================================================================\n",
      "lstm_1 (LSTM)                (None, 99, 32)            4608      \n",
      "_________________________________________________________________\n",
      "dense_1 (Dense)              (None, 99, 3)             99        \n",
      "=================================================================\n",
      "Total params: 4,707\n",
      "Trainable params: 4,707\n",
      "Non-trainable params: 0\n",
      "_________________________________________________________________\n"
     ]
    }
   ],
   "source": [
    "from keras.layers import TimeDistributed\n",
    "from keras.layers import InputLayer\n",
    "from keras.layers import Reshape\n",
    "\n",
    "model = Sequential() # Sequeatial Model \n",
    "\n",
    "model.add(LSTM(32, activation='relu',return_sequences=True, input_shape=trainX.shape[-2:]))  \n",
    "# 20: 메모리 셀의 개수 input_shape: (timestep, feature) \n",
    "model.add(Dense(3, activation='softmax')) # 3개의 예측\n",
    "\n",
    "model.compile(loss='mean_squared_error', optimizer='adam') \n",
    "\n",
    "model.fit(trainX, trainY, epochs=5,batch_size=10, validation_split=0.2, verbose=1)\n",
    "\n",
    "model.summary()"
   ]
  },
  {
   "cell_type": "code",
   "execution_count": 19,
   "metadata": {},
   "outputs": [
    {
     "name": "stdout",
     "output_type": "stream",
     "text": [
      "Epoch 1/5\n",
      "170/170 [==============================] - 0s 1ms/step - loss: 117515.6319\n",
      "Epoch 2/5\n",
      "170/170 [==============================] - 0s 1ms/step - loss: 117516.7546\n",
      "Epoch 3/5\n",
      "170/170 [==============================] - 0s 1ms/step - loss: 117514.6245\n",
      "Epoch 4/5\n",
      "170/170 [==============================] - 0s 1ms/step - loss: 117509.6172\n",
      "Epoch 5/5\n",
      "170/170 [==============================] - 0s 1ms/step - loss: 117506.7312\n"
     ]
    },
    {
     "data": {
      "text/plain": [
       "<keras.callbacks.callbacks.History at 0x285819d2888>"
      ]
     },
     "execution_count": 19,
     "metadata": {},
     "output_type": "execute_result"
    }
   ],
   "source": [
    "model.fit(trainX, trainY, epochs=5,batch_size=30, verbose=1)"
   ]
  },
  {
   "cell_type": "code",
   "execution_count": 25,
   "metadata": {},
   "outputs": [
    {
     "name": "stdout",
     "output_type": "stream",
     "text": [
      "170/170 [==============================] - 0s 773us/step\n",
      "정확도:  117506.47959558823\n",
      "83/83 [==============================] - 0s 890us/step\n",
      "정확도:  116160.99303463855\n",
      "y:  [[[333.         252.           0.        ]\n",
      "  [333.         252.           0.        ]\n",
      "  [333.         252.           0.        ]\n",
      "  ...\n",
      "  [496.         380.          10.29563014]\n",
      "  [505.         385.           0.        ]\n",
      "  [505.         385.           8.60232527]]\n",
      "\n",
      " [[590.         481.           0.        ]\n",
      "  [590.         481.           0.        ]\n",
      "  [590.         481.           0.        ]\n",
      "  ...\n",
      "  [373.         425.           6.32455532]\n",
      "  [367.         423.           0.        ]\n",
      "  [367.         423.           2.82842712]]\n",
      "\n",
      " [[361.         417.           0.        ]\n",
      "  [361.         417.           0.        ]\n",
      "  [361.         417.           0.        ]\n",
      "  ...\n",
      "  [311.         368.           0.        ]\n",
      "  [311.         368.           9.43398113]\n",
      "  [303.         363.           0.        ]]\n",
      "\n",
      " ...\n",
      "\n",
      " [[514.         637.           0.        ]\n",
      "  [514.         637.           0.        ]\n",
      "  [514.         637.           0.        ]\n",
      "  ...\n",
      "  [523.         517.           0.        ]\n",
      "  [523.         517.           0.        ]\n",
      "  [523.         517.           0.        ]]\n",
      "\n",
      " [[526.         508.           0.        ]\n",
      "  [526.         508.           0.        ]\n",
      "  [526.         508.           1.        ]\n",
      "  ...\n",
      "  [503.         373.           0.        ]\n",
      "  [503.         373.           6.32455532]\n",
      "  [501.         367.           0.        ]]\n",
      "\n",
      " [[405.         275.           0.        ]\n",
      "  [405.         275.           0.        ]\n",
      "  [405.         275.           0.        ]\n",
      "  ...\n",
      "  [206.         422.           0.        ]\n",
      "  [206.         422.           0.        ]\n",
      "  [206.         422.           0.        ]]] , predict:  [9.9978369e-01 2.1630737e-04 8.0036612e-13 ... 3.9491155e-33 1.0000000e+00\n",
      " 0.0000000e+00]\n"
     ]
    }
   ],
   "source": [
    "print(\"정확도: \",(model.evaluate(trainX, trainY)))\n",
    "print(\"정확도: \",(model.evaluate(testX, testY)))\n",
    "\n",
    "trainPredict = model.predict(trainX)\n",
    "testPredict = model.predict(testX)\n",
    "print('y: ',testY,', predict: ',model.predict(trainX).flatten())"
   ]
  },
  {
   "cell_type": "code",
   "execution_count": 20,
   "metadata": {},
   "outputs": [
    {
     "ename": "ValueError",
     "evalue": "Found input variables with inconsistent numbers of samples: [99, 170]",
     "output_type": "error",
     "traceback": [
      "\u001b[1;31m---------------------------------------------------------------------------\u001b[0m",
      "\u001b[1;31mValueError\u001b[0m                                Traceback (most recent call last)",
      "\u001b[1;32m<ipython-input-20-820627833640>\u001b[0m in \u001b[0;36m<module>\u001b[1;34m\u001b[0m\n\u001b[0;32m     17\u001b[0m \u001b[1;31m# dataset=  n1_scaled\u001b[0m\u001b[1;33m\u001b[0m\u001b[1;33m\u001b[0m\u001b[1;33m\u001b[0m\u001b[0m\n\u001b[0;32m     18\u001b[0m \u001b[1;33m\u001b[0m\u001b[0m\n\u001b[1;32m---> 19\u001b[1;33m \u001b[0mtrainScore\u001b[0m \u001b[1;33m=\u001b[0m \u001b[0mmath\u001b[0m\u001b[1;33m.\u001b[0m\u001b[0msqrt\u001b[0m\u001b[1;33m(\u001b[0m\u001b[0mmean_squared_error\u001b[0m\u001b[1;33m(\u001b[0m\u001b[0mtrainY\u001b[0m\u001b[1;33m[\u001b[0m\u001b[1;36m0\u001b[0m\u001b[1;33m]\u001b[0m\u001b[1;33m,\u001b[0m \u001b[0mtrainPredict\u001b[0m\u001b[1;33m[\u001b[0m\u001b[1;33m:\u001b[0m\u001b[1;33m,\u001b[0m\u001b[1;36m0\u001b[0m\u001b[1;33m]\u001b[0m\u001b[1;33m)\u001b[0m\u001b[1;33m)\u001b[0m\u001b[1;33m\u001b[0m\u001b[1;33m\u001b[0m\u001b[0m\n\u001b[0m\u001b[0;32m     20\u001b[0m \u001b[0mprint\u001b[0m\u001b[1;33m(\u001b[0m\u001b[1;34m'Train Score: %.2f RMSE'\u001b[0m \u001b[1;33m%\u001b[0m \u001b[1;33m(\u001b[0m\u001b[0mtrainScore\u001b[0m\u001b[1;33m)\u001b[0m\u001b[1;33m)\u001b[0m\u001b[1;33m\u001b[0m\u001b[1;33m\u001b[0m\u001b[0m\n\u001b[0;32m     21\u001b[0m \u001b[0mtestScore\u001b[0m \u001b[1;33m=\u001b[0m \u001b[0mmath\u001b[0m\u001b[1;33m.\u001b[0m\u001b[0msqrt\u001b[0m\u001b[1;33m(\u001b[0m\u001b[0mmean_squared_error\u001b[0m\u001b[1;33m(\u001b[0m\u001b[0mtestY\u001b[0m\u001b[1;33m[\u001b[0m\u001b[1;36m0\u001b[0m\u001b[1;33m]\u001b[0m\u001b[1;33m,\u001b[0m \u001b[0mtestPredict\u001b[0m\u001b[1;33m[\u001b[0m\u001b[1;33m:\u001b[0m\u001b[1;33m,\u001b[0m\u001b[1;36m0\u001b[0m\u001b[1;33m]\u001b[0m\u001b[1;33m)\u001b[0m\u001b[1;33m)\u001b[0m\u001b[1;33m\u001b[0m\u001b[1;33m\u001b[0m\u001b[0m\n",
      "\u001b[1;32m~\\anaconda3\\lib\\site-packages\\sklearn\\metrics\\_regression.py\u001b[0m in \u001b[0;36mmean_squared_error\u001b[1;34m(y_true, y_pred, sample_weight, multioutput, squared)\u001b[0m\n\u001b[0;32m    250\u001b[0m     \"\"\"\n\u001b[0;32m    251\u001b[0m     y_type, y_true, y_pred, multioutput = _check_reg_targets(\n\u001b[1;32m--> 252\u001b[1;33m         y_true, y_pred, multioutput)\n\u001b[0m\u001b[0;32m    253\u001b[0m     \u001b[0mcheck_consistent_length\u001b[0m\u001b[1;33m(\u001b[0m\u001b[0my_true\u001b[0m\u001b[1;33m,\u001b[0m \u001b[0my_pred\u001b[0m\u001b[1;33m,\u001b[0m \u001b[0msample_weight\u001b[0m\u001b[1;33m)\u001b[0m\u001b[1;33m\u001b[0m\u001b[1;33m\u001b[0m\u001b[0m\n\u001b[0;32m    254\u001b[0m     output_errors = np.average((y_true - y_pred) ** 2, axis=0,\n",
      "\u001b[1;32m~\\anaconda3\\lib\\site-packages\\sklearn\\metrics\\_regression.py\u001b[0m in \u001b[0;36m_check_reg_targets\u001b[1;34m(y_true, y_pred, multioutput, dtype)\u001b[0m\n\u001b[0;32m     82\u001b[0m \u001b[1;33m\u001b[0m\u001b[0m\n\u001b[0;32m     83\u001b[0m     \"\"\"\n\u001b[1;32m---> 84\u001b[1;33m     \u001b[0mcheck_consistent_length\u001b[0m\u001b[1;33m(\u001b[0m\u001b[0my_true\u001b[0m\u001b[1;33m,\u001b[0m \u001b[0my_pred\u001b[0m\u001b[1;33m)\u001b[0m\u001b[1;33m\u001b[0m\u001b[1;33m\u001b[0m\u001b[0m\n\u001b[0m\u001b[0;32m     85\u001b[0m     \u001b[0my_true\u001b[0m \u001b[1;33m=\u001b[0m \u001b[0mcheck_array\u001b[0m\u001b[1;33m(\u001b[0m\u001b[0my_true\u001b[0m\u001b[1;33m,\u001b[0m \u001b[0mensure_2d\u001b[0m\u001b[1;33m=\u001b[0m\u001b[1;32mFalse\u001b[0m\u001b[1;33m,\u001b[0m \u001b[0mdtype\u001b[0m\u001b[1;33m=\u001b[0m\u001b[0mdtype\u001b[0m\u001b[1;33m)\u001b[0m\u001b[1;33m\u001b[0m\u001b[1;33m\u001b[0m\u001b[0m\n\u001b[0;32m     86\u001b[0m     \u001b[0my_pred\u001b[0m \u001b[1;33m=\u001b[0m \u001b[0mcheck_array\u001b[0m\u001b[1;33m(\u001b[0m\u001b[0my_pred\u001b[0m\u001b[1;33m,\u001b[0m \u001b[0mensure_2d\u001b[0m\u001b[1;33m=\u001b[0m\u001b[1;32mFalse\u001b[0m\u001b[1;33m,\u001b[0m \u001b[0mdtype\u001b[0m\u001b[1;33m=\u001b[0m\u001b[0mdtype\u001b[0m\u001b[1;33m)\u001b[0m\u001b[1;33m\u001b[0m\u001b[1;33m\u001b[0m\u001b[0m\n",
      "\u001b[1;32m~\\anaconda3\\lib\\site-packages\\sklearn\\utils\\validation.py\u001b[0m in \u001b[0;36mcheck_consistent_length\u001b[1;34m(*arrays)\u001b[0m\n\u001b[0;32m    210\u001b[0m     \u001b[1;32mif\u001b[0m \u001b[0mlen\u001b[0m\u001b[1;33m(\u001b[0m\u001b[0muniques\u001b[0m\u001b[1;33m)\u001b[0m \u001b[1;33m>\u001b[0m \u001b[1;36m1\u001b[0m\u001b[1;33m:\u001b[0m\u001b[1;33m\u001b[0m\u001b[1;33m\u001b[0m\u001b[0m\n\u001b[0;32m    211\u001b[0m         raise ValueError(\"Found input variables with inconsistent numbers of\"\n\u001b[1;32m--> 212\u001b[1;33m                          \" samples: %r\" % [int(l) for l in lengths])\n\u001b[0m\u001b[0;32m    213\u001b[0m \u001b[1;33m\u001b[0m\u001b[0m\n\u001b[0;32m    214\u001b[0m \u001b[1;33m\u001b[0m\u001b[0m\n",
      "\u001b[1;31mValueError\u001b[0m: Found input variables with inconsistent numbers of samples: [99, 170]"
     ]
    }
   ],
   "source": [
    "# 예측\n",
    "\n",
    "# nsamples, nx, ny=trainX.shape\n",
    "# trainX=trainX.reshape((nsamples,nx*ny))\n",
    "# nsamples, nx, ny=testX.shape\n",
    "# testX=testX.reshape((nsamples,nx*ny))\n",
    "\n",
    "trainPredict = model.predict(trainX)\n",
    "testPredict = model.predict(testX)\n",
    "\n",
    "# #Numpy 활용하여 3차원 데이터 스케일링(변환) 0~1 스케일링\n",
    "# results=[]\n",
    "# for ss in range(num_sequence):\n",
    "#     results.append(scaler.transform(n1[:,ss,:]).reshape(num_sample,1,num_feature))\n",
    "# n1_scaled = np.concatenate(results, axis=1)\n",
    "\n",
    "# dataset=  n1_scaled\n",
    "\n",
    "trainScore = math.sqrt(mean_squared_error(trainY[0], trainPredict[:,0]))\n",
    "print('Train Score: %.2f RMSE' % (trainScore))\n",
    "testScore = math.sqrt(mean_squared_error(testY[0], testPredict[:,0]))\n",
    "print('Test Score: %.2f RMSE' % (testScore))\n",
    "\n",
    "# #inverse_trasform()함수를 사용하여 스케일링된 결과 값을 본래 값으로 구함\n",
    "# trainPredict = scaler.inverse_transform(trainPredict)\n",
    "# trainY = scaler.inverse_transform([trainY]) \n",
    "# testPredict = scaler.inverse_transform(testPredict)\n",
    "# testY = scaler.inverse_transform([testY])\n",
    "\n",
    "# trainScore = math.sqrt(mean_squared_error(trainY[0], trainPredict[:,0]))\n",
    "# print('Train Score: %.2f RMSE' % (trainScore))\n",
    "# testScore = math.sqrt(mean_squared_error(testY[0], testPredict[:,0]))\n",
    "# print('Test Score: %.2f RMSE' % (testScore))"
   ]
  },
  {
   "cell_type": "code",
   "execution_count": 24,
   "metadata": {},
   "outputs": [
    {
     "ename": "ValueError",
     "evalue": "x and y can be no greater than 2-D, but have shapes (257,) and (257, 99, 3)",
     "output_type": "error",
     "traceback": [
      "\u001b[1;31m---------------------------------------------------------------------------\u001b[0m",
      "\u001b[1;31mValueError\u001b[0m                                Traceback (most recent call last)",
      "\u001b[1;32m<ipython-input-24-c5263a39eb9e>\u001b[0m in \u001b[0;36m<module>\u001b[1;34m\u001b[0m\n\u001b[0;32m     18\u001b[0m \u001b[1;33m\u001b[0m\u001b[0m\n\u001b[0;32m     19\u001b[0m \u001b[1;31m# plt.plot(dataset) #전체 데이터\u001b[0m\u001b[1;33m\u001b[0m\u001b[1;33m\u001b[0m\u001b[1;33m\u001b[0m\u001b[0m\n\u001b[1;32m---> 20\u001b[1;33m \u001b[0mplt\u001b[0m\u001b[1;33m.\u001b[0m\u001b[0mplot\u001b[0m\u001b[1;33m(\u001b[0m\u001b[0mtrainPredictPlot\u001b[0m\u001b[1;33m)\u001b[0m \u001b[1;31m#초반 부분 train 데이터\u001b[0m\u001b[1;33m\u001b[0m\u001b[1;33m\u001b[0m\u001b[0m\n\u001b[0m\u001b[0;32m     21\u001b[0m \u001b[0mplt\u001b[0m\u001b[1;33m.\u001b[0m\u001b[0mplot\u001b[0m\u001b[1;33m(\u001b[0m\u001b[0mtestPredictPlot\u001b[0m\u001b[1;33m)\u001b[0m \u001b[1;31m#후반 부분 test 데이터\u001b[0m\u001b[1;33m\u001b[0m\u001b[1;33m\u001b[0m\u001b[0m\n\u001b[0;32m     22\u001b[0m \u001b[0mplt\u001b[0m\u001b[1;33m.\u001b[0m\u001b[0mshow\u001b[0m\u001b[1;33m(\u001b[0m\u001b[1;33m)\u001b[0m\u001b[1;33m\u001b[0m\u001b[1;33m\u001b[0m\u001b[0m\n",
      "\u001b[1;32m~\\anaconda3\\lib\\site-packages\\matplotlib\\pyplot.py\u001b[0m in \u001b[0;36mplot\u001b[1;34m(scalex, scaley, data, *args, **kwargs)\u001b[0m\n\u001b[0;32m   2794\u001b[0m     return gca().plot(\n\u001b[0;32m   2795\u001b[0m         *args, scalex=scalex, scaley=scaley, **({\"data\": data} if data\n\u001b[1;32m-> 2796\u001b[1;33m         is not None else {}), **kwargs)\n\u001b[0m\u001b[0;32m   2797\u001b[0m \u001b[1;33m\u001b[0m\u001b[0m\n\u001b[0;32m   2798\u001b[0m \u001b[1;33m\u001b[0m\u001b[0m\n",
      "\u001b[1;32m~\\anaconda3\\lib\\site-packages\\matplotlib\\axes\\_axes.py\u001b[0m in \u001b[0;36mplot\u001b[1;34m(self, scalex, scaley, data, *args, **kwargs)\u001b[0m\n\u001b[0;32m   1663\u001b[0m         \"\"\"\n\u001b[0;32m   1664\u001b[0m         \u001b[0mkwargs\u001b[0m \u001b[1;33m=\u001b[0m \u001b[0mcbook\u001b[0m\u001b[1;33m.\u001b[0m\u001b[0mnormalize_kwargs\u001b[0m\u001b[1;33m(\u001b[0m\u001b[0mkwargs\u001b[0m\u001b[1;33m,\u001b[0m \u001b[0mmlines\u001b[0m\u001b[1;33m.\u001b[0m\u001b[0mLine2D\u001b[0m\u001b[1;33m.\u001b[0m\u001b[0m_alias_map\u001b[0m\u001b[1;33m)\u001b[0m\u001b[1;33m\u001b[0m\u001b[1;33m\u001b[0m\u001b[0m\n\u001b[1;32m-> 1665\u001b[1;33m         \u001b[0mlines\u001b[0m \u001b[1;33m=\u001b[0m \u001b[1;33m[\u001b[0m\u001b[1;33m*\u001b[0m\u001b[0mself\u001b[0m\u001b[1;33m.\u001b[0m\u001b[0m_get_lines\u001b[0m\u001b[1;33m(\u001b[0m\u001b[1;33m*\u001b[0m\u001b[0margs\u001b[0m\u001b[1;33m,\u001b[0m \u001b[0mdata\u001b[0m\u001b[1;33m=\u001b[0m\u001b[0mdata\u001b[0m\u001b[1;33m,\u001b[0m \u001b[1;33m**\u001b[0m\u001b[0mkwargs\u001b[0m\u001b[1;33m)\u001b[0m\u001b[1;33m]\u001b[0m\u001b[1;33m\u001b[0m\u001b[1;33m\u001b[0m\u001b[0m\n\u001b[0m\u001b[0;32m   1666\u001b[0m         \u001b[1;32mfor\u001b[0m \u001b[0mline\u001b[0m \u001b[1;32min\u001b[0m \u001b[0mlines\u001b[0m\u001b[1;33m:\u001b[0m\u001b[1;33m\u001b[0m\u001b[1;33m\u001b[0m\u001b[0m\n\u001b[0;32m   1667\u001b[0m             \u001b[0mself\u001b[0m\u001b[1;33m.\u001b[0m\u001b[0madd_line\u001b[0m\u001b[1;33m(\u001b[0m\u001b[0mline\u001b[0m\u001b[1;33m)\u001b[0m\u001b[1;33m\u001b[0m\u001b[1;33m\u001b[0m\u001b[0m\n",
      "\u001b[1;32m~\\anaconda3\\lib\\site-packages\\matplotlib\\axes\\_base.py\u001b[0m in \u001b[0;36m__call__\u001b[1;34m(self, *args, **kwargs)\u001b[0m\n\u001b[0;32m    223\u001b[0m                 \u001b[0mthis\u001b[0m \u001b[1;33m+=\u001b[0m \u001b[0margs\u001b[0m\u001b[1;33m[\u001b[0m\u001b[1;36m0\u001b[0m\u001b[1;33m]\u001b[0m\u001b[1;33m,\u001b[0m\u001b[1;33m\u001b[0m\u001b[1;33m\u001b[0m\u001b[0m\n\u001b[0;32m    224\u001b[0m                 \u001b[0margs\u001b[0m \u001b[1;33m=\u001b[0m \u001b[0margs\u001b[0m\u001b[1;33m[\u001b[0m\u001b[1;36m1\u001b[0m\u001b[1;33m:\u001b[0m\u001b[1;33m]\u001b[0m\u001b[1;33m\u001b[0m\u001b[1;33m\u001b[0m\u001b[0m\n\u001b[1;32m--> 225\u001b[1;33m             \u001b[1;32myield\u001b[0m \u001b[1;32mfrom\u001b[0m \u001b[0mself\u001b[0m\u001b[1;33m.\u001b[0m\u001b[0m_plot_args\u001b[0m\u001b[1;33m(\u001b[0m\u001b[0mthis\u001b[0m\u001b[1;33m,\u001b[0m \u001b[0mkwargs\u001b[0m\u001b[1;33m)\u001b[0m\u001b[1;33m\u001b[0m\u001b[1;33m\u001b[0m\u001b[0m\n\u001b[0m\u001b[0;32m    226\u001b[0m \u001b[1;33m\u001b[0m\u001b[0m\n\u001b[0;32m    227\u001b[0m     \u001b[1;32mdef\u001b[0m \u001b[0mget_next_color\u001b[0m\u001b[1;33m(\u001b[0m\u001b[0mself\u001b[0m\u001b[1;33m)\u001b[0m\u001b[1;33m:\u001b[0m\u001b[1;33m\u001b[0m\u001b[1;33m\u001b[0m\u001b[0m\n",
      "\u001b[1;32m~\\anaconda3\\lib\\site-packages\\matplotlib\\axes\\_base.py\u001b[0m in \u001b[0;36m_plot_args\u001b[1;34m(self, tup, kwargs)\u001b[0m\n\u001b[0;32m    389\u001b[0m             \u001b[0mx\u001b[0m\u001b[1;33m,\u001b[0m \u001b[0my\u001b[0m \u001b[1;33m=\u001b[0m \u001b[0mindex_of\u001b[0m\u001b[1;33m(\u001b[0m\u001b[0mtup\u001b[0m\u001b[1;33m[\u001b[0m\u001b[1;33m-\u001b[0m\u001b[1;36m1\u001b[0m\u001b[1;33m]\u001b[0m\u001b[1;33m)\u001b[0m\u001b[1;33m\u001b[0m\u001b[1;33m\u001b[0m\u001b[0m\n\u001b[0;32m    390\u001b[0m \u001b[1;33m\u001b[0m\u001b[0m\n\u001b[1;32m--> 391\u001b[1;33m         \u001b[0mx\u001b[0m\u001b[1;33m,\u001b[0m \u001b[0my\u001b[0m \u001b[1;33m=\u001b[0m \u001b[0mself\u001b[0m\u001b[1;33m.\u001b[0m\u001b[0m_xy_from_xy\u001b[0m\u001b[1;33m(\u001b[0m\u001b[0mx\u001b[0m\u001b[1;33m,\u001b[0m \u001b[0my\u001b[0m\u001b[1;33m)\u001b[0m\u001b[1;33m\u001b[0m\u001b[1;33m\u001b[0m\u001b[0m\n\u001b[0m\u001b[0;32m    392\u001b[0m \u001b[1;33m\u001b[0m\u001b[0m\n\u001b[0;32m    393\u001b[0m         \u001b[1;32mif\u001b[0m \u001b[0mself\u001b[0m\u001b[1;33m.\u001b[0m\u001b[0mcommand\u001b[0m \u001b[1;33m==\u001b[0m \u001b[1;34m'plot'\u001b[0m\u001b[1;33m:\u001b[0m\u001b[1;33m\u001b[0m\u001b[1;33m\u001b[0m\u001b[0m\n",
      "\u001b[1;32m~\\anaconda3\\lib\\site-packages\\matplotlib\\axes\\_base.py\u001b[0m in \u001b[0;36m_xy_from_xy\u001b[1;34m(self, x, y)\u001b[0m\n\u001b[0;32m    271\u001b[0m         \u001b[1;32mif\u001b[0m \u001b[0mx\u001b[0m\u001b[1;33m.\u001b[0m\u001b[0mndim\u001b[0m \u001b[1;33m>\u001b[0m \u001b[1;36m2\u001b[0m \u001b[1;32mor\u001b[0m \u001b[0my\u001b[0m\u001b[1;33m.\u001b[0m\u001b[0mndim\u001b[0m \u001b[1;33m>\u001b[0m \u001b[1;36m2\u001b[0m\u001b[1;33m:\u001b[0m\u001b[1;33m\u001b[0m\u001b[1;33m\u001b[0m\u001b[0m\n\u001b[0;32m    272\u001b[0m             raise ValueError(\"x and y can be no greater than 2-D, but have \"\n\u001b[1;32m--> 273\u001b[1;33m                              \"shapes {} and {}\".format(x.shape, y.shape))\n\u001b[0m\u001b[0;32m    274\u001b[0m \u001b[1;33m\u001b[0m\u001b[0m\n\u001b[0;32m    275\u001b[0m         \u001b[1;32mif\u001b[0m \u001b[0mx\u001b[0m\u001b[1;33m.\u001b[0m\u001b[0mndim\u001b[0m \u001b[1;33m==\u001b[0m \u001b[1;36m1\u001b[0m\u001b[1;33m:\u001b[0m\u001b[1;33m\u001b[0m\u001b[1;33m\u001b[0m\u001b[0m\n",
      "\u001b[1;31mValueError\u001b[0m: x and y can be no greater than 2-D, but have shapes (257,) and (257, 99, 3)"
     ]
    },
    {
     "data": {
      "image/png": "[encoded data removed]",
      "text/plain": [
       "<Figure size 432x288 with 1 Axes>"
      ]
     },
     "metadata": {
      "needs_background": "light"
     },
     "output_type": "display_data"
    }
   ],
   "source": [
    "#원래 데이터셋 : 파란색, 테스트 데이터셋 : 녹색 #훈련 데이터셋 : 주황색\n",
    "#train 예측 \n",
    "trainPredictPlot = np.empty_like(dataset)\n",
    "trainPredictPlot[:, :] = np.nan\n",
    "trainPredictPlot[look_back:len(trainPredict)+look_back, :] = trainPredict\n",
    "\n",
    "testPredictPlot = np.empty_like(dataset)\n",
    "testPredictPlot[:, :] = np.nan\n",
    "testPredictPlot[len(trainPredict)+(look_back*2)+1:len(dataset)-1, :] = testPredict\n",
    "\n",
    "plt.plot(scaler.inverse_transform(dataset)) #전체 데이터\n",
    "plt.plot(dataset) \n",
    "# plt.show()\n",
    "plt.plot(trainPredictPlot) #초반 부분 train 데이터\n",
    "plt.show()\n",
    "plt.plot(testPredictPlot) #후반 부분 test 데이터\n",
    "plt.show()\n",
    "\n",
    "plt.plot(dataset) #전체 데이터\n",
    "plt.plot(trainPredictPlot) #초반 부분 train 데이터\n",
    "plt.plot(testPredictPlot) #후반 부분 test 데이터\n",
    "plt.show()"
   ]
  },
  {
   "cell_type": "code",
   "execution_count": null,
   "metadata": {},
   "outputs": [],
   "source": []
  }
 ],
 "metadata": {
  "kernelspec": {
   "display_name": "Python 3",
   "language": "python",
   "name": "python3"
  },
  "language_info": {
   "codemirror_mode": {
    "name": "ipython",
    "version": 3
   },
   "file_extension": ".py",
   "mimetype": "text/x-python",
   "name": "python",
   "nbconvert_exporter": "python",
   "pygments_lexer": "ipython3",
   "version": "3.7.6"
  }
 },
 "nbformat": 4,
 "nbformat_minor": 4
}
